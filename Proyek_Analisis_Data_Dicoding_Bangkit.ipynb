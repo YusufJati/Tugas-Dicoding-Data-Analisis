{
 "cells": [
  {
   "cell_type": "markdown",
   "metadata": {
    "id": "H9wADwK78DCz"
   },
   "source": [
    "# Proyek Analisis Data: Bike Data Sharing Dataset\n",
    "- **Nama:** Muhamad Aditya Yusuf Jatikusumo\n",
    "- **Email:** yusufjana18@gmail.com\n",
    "- **ID Dicoding:** muhamad_adityayusuf"
   ]
  },
  {
   "cell_type": "markdown",
   "metadata": {
    "id": "eE0raob58DC0"
   },
   "source": [
    "## Menentukan Pertanyaan Bisnis"
   ]
  },
  {
   "cell_type": "markdown",
   "metadata": {
    "id": "GmQeQ5YF8DC0"
   },
   "source": [
    "- Pertanyaan 1 <br>\n",
    "Apakah musim mempengaruhi jumlah peminjaman sepeda?\n",
    "- Pertanyaan 2 <br>\n",
    "Bagaimana kinerja peminjaman sepeda per bulan?"
   ]
  },
  {
   "cell_type": "markdown",
   "metadata": {},
   "source": [
    "Pada Analisis data kali ini akan digunakan dataset bike data sharing dan file csv yang digunakan yaitu day.csv walaupun file hour.csv akan digunakan untuk menentukan arah dari analisis data yang diinginkan"
   ]
  },
  {
   "cell_type": "markdown",
   "metadata": {
    "id": "H-z4QGlO8DC1"
   },
   "source": [
    "## Import Semua Packages/Library yang Digunakan"
   ]
  },
  {
   "cell_type": "code",
   "execution_count": 36,
   "metadata": {
    "id": "FVYwaObI8DC1",
    "is_executing": true
   },
   "outputs": [],
   "source": [
    "import pandas as pd\n",
    "import numpy as np\n",
    "import matplotlib.pyplot as plt\n",
    "import seaborn as sns\n",
    "import streamlit as st\n",
    "from babel.numbers import format_currency\n",
    "sns.set(style='dark')\n",
    "\n",
    "import warnings\n",
    "warnings.simplefilter(action='ignore', category=UserWarning)\n",
    "warnings.simplefilter(action='ignore', category=FutureWarning)"
   ]
  },
  {
   "cell_type": "markdown",
   "metadata": {
    "id": "h_Sh51Xy8DC1"
   },
   "source": [
    "## Data Wrangling\n",
    "Data wrangling merupakan sebuah proses atau kumpulan kegiatan yang meliputi pengumpulan data (Gathering data), penilaian data (Assessing data), serta pembersihan data (Cleaning data) sebelum data digunakan dalam proses analisis data."
   ]
  },
  {
   "cell_type": "markdown",
   "metadata": {
    "id": "sXU2GBYu8DC1"
   },
   "source": [
    "### Gathering Data\n",
    "Tahap ini untuk mengimport data dari format csv ke bentuk dataframe menggunakan library pandas dan sebagai tahap awal dari analisis data. \n",
    "\n",
    "Proses yang dilakukan:\n",
    "1. Pada proses ini kita akan mengumpulkan semua data yang dibutuhkan untuk menjawab semua pertanyaan atau masalah bisnis yang ingin kita hadapi."
   ]
  },
  {
   "cell_type": "code",
   "execution_count": 37,
   "metadata": {
    "id": "zjCBk1BI8DC1"
   },
   "outputs": [],
   "source": [
    "day_df = pd.read_csv('./data/day.csv')\n",
    "hour_df = pd.read_csv('./data/hour.csv')"
   ]
  },
  {
   "cell_type": "code",
   "execution_count": 38,
   "metadata": {
    "colab": {
     "base_uri": "https://localhost:8080/"
    },
    "id": "7rafzkmAC-5P",
    "outputId": "f5d89089-3508-4d90-f80e-bff4c24e9247"
   },
   "outputs": [
    {
     "data": {
      "text/plain": [
       "Index(['instant', 'dteday', 'season', 'yr', 'mnth', 'holiday', 'weekday',\n",
       "       'workingday', 'weathersit', 'temp', 'atemp', 'hum', 'windspeed',\n",
       "       'casual', 'registered', 'cnt'],\n",
       "      dtype='object')"
      ]
     },
     "execution_count": 38,
     "metadata": {},
     "output_type": "execute_result"
    }
   ],
   "source": [
    "day_df.columns"
   ]
  },
  {
   "cell_type": "code",
   "execution_count": 39,
   "metadata": {
    "colab": {
     "base_uri": "https://localhost:8080/"
    },
    "id": "00MfIGt7DGjT",
    "outputId": "8cc9bd0a-f307-4a19-c7ba-8f846b9ca02b"
   },
   "outputs": [
    {
     "data": {
      "text/plain": [
       "Index(['instant', 'dteday', 'season', 'yr', 'mnth', 'hr', 'holiday', 'weekday',\n",
       "       'workingday', 'weathersit', 'temp', 'atemp', 'hum', 'windspeed',\n",
       "       'casual', 'registered', 'cnt'],\n",
       "      dtype='object')"
      ]
     },
     "execution_count": 39,
     "metadata": {},
     "output_type": "execute_result"
    }
   ],
   "source": [
    "hour_df.columns"
   ]
  },
  {
   "cell_type": "code",
   "execution_count": 40,
   "metadata": {
    "colab": {
     "base_uri": "https://localhost:8080/",
     "height": 206
    },
    "id": "N_ciaBISbU-V",
    "outputId": "5c055379-b6a8-4a38-ccd4-7c37f86405a3"
   },
   "outputs": [
    {
     "data": {
      "text/html": [
       "<div>\n",
       "<style scoped>\n",
       "    .dataframe tbody tr th:only-of-type {\n",
       "        vertical-align: middle;\n",
       "    }\n",
       "\n",
       "    .dataframe tbody tr th {\n",
       "        vertical-align: top;\n",
       "    }\n",
       "\n",
       "    .dataframe thead th {\n",
       "        text-align: right;\n",
       "    }\n",
       "</style>\n",
       "<table border=\"1\" class=\"dataframe\">\n",
       "  <thead>\n",
       "    <tr style=\"text-align: right;\">\n",
       "      <th></th>\n",
       "      <th>instant</th>\n",
       "      <th>dteday</th>\n",
       "      <th>season</th>\n",
       "      <th>yr</th>\n",
       "      <th>mnth</th>\n",
       "      <th>holiday</th>\n",
       "      <th>weekday</th>\n",
       "      <th>workingday</th>\n",
       "      <th>weathersit</th>\n",
       "      <th>temp</th>\n",
       "      <th>atemp</th>\n",
       "      <th>hum</th>\n",
       "      <th>windspeed</th>\n",
       "      <th>casual</th>\n",
       "      <th>registered</th>\n",
       "      <th>cnt</th>\n",
       "    </tr>\n",
       "  </thead>\n",
       "  <tbody>\n",
       "    <tr>\n",
       "      <th>0</th>\n",
       "      <td>1</td>\n",
       "      <td>2011-01-01</td>\n",
       "      <td>1</td>\n",
       "      <td>0</td>\n",
       "      <td>1</td>\n",
       "      <td>0</td>\n",
       "      <td>6</td>\n",
       "      <td>0</td>\n",
       "      <td>2</td>\n",
       "      <td>0.34</td>\n",
       "      <td>0.36</td>\n",
       "      <td>0.81</td>\n",
       "      <td>0.16</td>\n",
       "      <td>331</td>\n",
       "      <td>654</td>\n",
       "      <td>985</td>\n",
       "    </tr>\n",
       "    <tr>\n",
       "      <th>1</th>\n",
       "      <td>2</td>\n",
       "      <td>2011-01-02</td>\n",
       "      <td>1</td>\n",
       "      <td>0</td>\n",
       "      <td>1</td>\n",
       "      <td>0</td>\n",
       "      <td>0</td>\n",
       "      <td>0</td>\n",
       "      <td>2</td>\n",
       "      <td>0.36</td>\n",
       "      <td>0.35</td>\n",
       "      <td>0.70</td>\n",
       "      <td>0.25</td>\n",
       "      <td>131</td>\n",
       "      <td>670</td>\n",
       "      <td>801</td>\n",
       "    </tr>\n",
       "    <tr>\n",
       "      <th>2</th>\n",
       "      <td>3</td>\n",
       "      <td>2011-01-03</td>\n",
       "      <td>1</td>\n",
       "      <td>0</td>\n",
       "      <td>1</td>\n",
       "      <td>0</td>\n",
       "      <td>1</td>\n",
       "      <td>1</td>\n",
       "      <td>1</td>\n",
       "      <td>0.20</td>\n",
       "      <td>0.19</td>\n",
       "      <td>0.44</td>\n",
       "      <td>0.25</td>\n",
       "      <td>120</td>\n",
       "      <td>1229</td>\n",
       "      <td>1349</td>\n",
       "    </tr>\n",
       "    <tr>\n",
       "      <th>3</th>\n",
       "      <td>4</td>\n",
       "      <td>2011-01-04</td>\n",
       "      <td>1</td>\n",
       "      <td>0</td>\n",
       "      <td>1</td>\n",
       "      <td>0</td>\n",
       "      <td>2</td>\n",
       "      <td>1</td>\n",
       "      <td>1</td>\n",
       "      <td>0.20</td>\n",
       "      <td>0.21</td>\n",
       "      <td>0.59</td>\n",
       "      <td>0.16</td>\n",
       "      <td>108</td>\n",
       "      <td>1454</td>\n",
       "      <td>1562</td>\n",
       "    </tr>\n",
       "    <tr>\n",
       "      <th>4</th>\n",
       "      <td>5</td>\n",
       "      <td>2011-01-05</td>\n",
       "      <td>1</td>\n",
       "      <td>0</td>\n",
       "      <td>1</td>\n",
       "      <td>0</td>\n",
       "      <td>3</td>\n",
       "      <td>1</td>\n",
       "      <td>1</td>\n",
       "      <td>0.23</td>\n",
       "      <td>0.23</td>\n",
       "      <td>0.44</td>\n",
       "      <td>0.19</td>\n",
       "      <td>82</td>\n",
       "      <td>1518</td>\n",
       "      <td>1600</td>\n",
       "    </tr>\n",
       "  </tbody>\n",
       "</table>\n",
       "</div>"
      ],
      "text/plain": [
       "   instant      dteday  season  yr  mnth  holiday  weekday  workingday  \\\n",
       "0        1  2011-01-01       1   0     1        0        6           0   \n",
       "1        2  2011-01-02       1   0     1        0        0           0   \n",
       "2        3  2011-01-03       1   0     1        0        1           1   \n",
       "3        4  2011-01-04       1   0     1        0        2           1   \n",
       "4        5  2011-01-05       1   0     1        0        3           1   \n",
       "\n",
       "   weathersit  temp  atemp  hum  windspeed  casual  registered   cnt  \n",
       "0           2  0.34   0.36 0.81       0.16     331         654   985  \n",
       "1           2  0.36   0.35 0.70       0.25     131         670   801  \n",
       "2           1  0.20   0.19 0.44       0.25     120        1229  1349  \n",
       "3           1  0.20   0.21 0.59       0.16     108        1454  1562  \n",
       "4           1  0.23   0.23 0.44       0.19      82        1518  1600  "
      ]
     },
     "execution_count": 40,
     "metadata": {},
     "output_type": "execute_result"
    }
   ],
   "source": [
    "day_df.head()"
   ]
  },
  {
   "cell_type": "code",
   "execution_count": 41,
   "metadata": {
    "colab": {
     "base_uri": "https://localhost:8080/",
     "height": 206
    },
    "id": "h1kwSIaBbXLP",
    "outputId": "d9518c13-65be-4425-bcb0-1561b8e193e0"
   },
   "outputs": [
    {
     "data": {
      "text/html": [
       "<div>\n",
       "<style scoped>\n",
       "    .dataframe tbody tr th:only-of-type {\n",
       "        vertical-align: middle;\n",
       "    }\n",
       "\n",
       "    .dataframe tbody tr th {\n",
       "        vertical-align: top;\n",
       "    }\n",
       "\n",
       "    .dataframe thead th {\n",
       "        text-align: right;\n",
       "    }\n",
       "</style>\n",
       "<table border=\"1\" class=\"dataframe\">\n",
       "  <thead>\n",
       "    <tr style=\"text-align: right;\">\n",
       "      <th></th>\n",
       "      <th>instant</th>\n",
       "      <th>dteday</th>\n",
       "      <th>season</th>\n",
       "      <th>yr</th>\n",
       "      <th>mnth</th>\n",
       "      <th>hr</th>\n",
       "      <th>holiday</th>\n",
       "      <th>weekday</th>\n",
       "      <th>workingday</th>\n",
       "      <th>weathersit</th>\n",
       "      <th>temp</th>\n",
       "      <th>atemp</th>\n",
       "      <th>hum</th>\n",
       "      <th>windspeed</th>\n",
       "      <th>casual</th>\n",
       "      <th>registered</th>\n",
       "      <th>cnt</th>\n",
       "    </tr>\n",
       "  </thead>\n",
       "  <tbody>\n",
       "    <tr>\n",
       "      <th>0</th>\n",
       "      <td>1</td>\n",
       "      <td>2011-01-01</td>\n",
       "      <td>1</td>\n",
       "      <td>0</td>\n",
       "      <td>1</td>\n",
       "      <td>0</td>\n",
       "      <td>0</td>\n",
       "      <td>6</td>\n",
       "      <td>0</td>\n",
       "      <td>1</td>\n",
       "      <td>0.24</td>\n",
       "      <td>0.29</td>\n",
       "      <td>0.81</td>\n",
       "      <td>0.00</td>\n",
       "      <td>3</td>\n",
       "      <td>13</td>\n",
       "      <td>16</td>\n",
       "    </tr>\n",
       "    <tr>\n",
       "      <th>1</th>\n",
       "      <td>2</td>\n",
       "      <td>2011-01-01</td>\n",
       "      <td>1</td>\n",
       "      <td>0</td>\n",
       "      <td>1</td>\n",
       "      <td>1</td>\n",
       "      <td>0</td>\n",
       "      <td>6</td>\n",
       "      <td>0</td>\n",
       "      <td>1</td>\n",
       "      <td>0.22</td>\n",
       "      <td>0.27</td>\n",
       "      <td>0.80</td>\n",
       "      <td>0.00</td>\n",
       "      <td>8</td>\n",
       "      <td>32</td>\n",
       "      <td>40</td>\n",
       "    </tr>\n",
       "    <tr>\n",
       "      <th>2</th>\n",
       "      <td>3</td>\n",
       "      <td>2011-01-01</td>\n",
       "      <td>1</td>\n",
       "      <td>0</td>\n",
       "      <td>1</td>\n",
       "      <td>2</td>\n",
       "      <td>0</td>\n",
       "      <td>6</td>\n",
       "      <td>0</td>\n",
       "      <td>1</td>\n",
       "      <td>0.22</td>\n",
       "      <td>0.27</td>\n",
       "      <td>0.80</td>\n",
       "      <td>0.00</td>\n",
       "      <td>5</td>\n",
       "      <td>27</td>\n",
       "      <td>32</td>\n",
       "    </tr>\n",
       "    <tr>\n",
       "      <th>3</th>\n",
       "      <td>4</td>\n",
       "      <td>2011-01-01</td>\n",
       "      <td>1</td>\n",
       "      <td>0</td>\n",
       "      <td>1</td>\n",
       "      <td>3</td>\n",
       "      <td>0</td>\n",
       "      <td>6</td>\n",
       "      <td>0</td>\n",
       "      <td>1</td>\n",
       "      <td>0.24</td>\n",
       "      <td>0.29</td>\n",
       "      <td>0.75</td>\n",
       "      <td>0.00</td>\n",
       "      <td>3</td>\n",
       "      <td>10</td>\n",
       "      <td>13</td>\n",
       "    </tr>\n",
       "    <tr>\n",
       "      <th>4</th>\n",
       "      <td>5</td>\n",
       "      <td>2011-01-01</td>\n",
       "      <td>1</td>\n",
       "      <td>0</td>\n",
       "      <td>1</td>\n",
       "      <td>4</td>\n",
       "      <td>0</td>\n",
       "      <td>6</td>\n",
       "      <td>0</td>\n",
       "      <td>1</td>\n",
       "      <td>0.24</td>\n",
       "      <td>0.29</td>\n",
       "      <td>0.75</td>\n",
       "      <td>0.00</td>\n",
       "      <td>0</td>\n",
       "      <td>1</td>\n",
       "      <td>1</td>\n",
       "    </tr>\n",
       "  </tbody>\n",
       "</table>\n",
       "</div>"
      ],
      "text/plain": [
       "   instant      dteday  season  yr  mnth  hr  holiday  weekday  workingday  \\\n",
       "0        1  2011-01-01       1   0     1   0        0        6           0   \n",
       "1        2  2011-01-01       1   0     1   1        0        6           0   \n",
       "2        3  2011-01-01       1   0     1   2        0        6           0   \n",
       "3        4  2011-01-01       1   0     1   3        0        6           0   \n",
       "4        5  2011-01-01       1   0     1   4        0        6           0   \n",
       "\n",
       "   weathersit  temp  atemp  hum  windspeed  casual  registered  cnt  \n",
       "0           1  0.24   0.29 0.81       0.00       3          13   16  \n",
       "1           1  0.22   0.27 0.80       0.00       8          32   40  \n",
       "2           1  0.22   0.27 0.80       0.00       5          27   32  \n",
       "3           1  0.24   0.29 0.75       0.00       3          10   13  \n",
       "4           1  0.24   0.29 0.75       0.00       0           1    1  "
      ]
     },
     "execution_count": 41,
     "metadata": {},
     "output_type": "execute_result"
    }
   ],
   "source": [
    "hour_df.head()"
   ]
  },
  {
   "cell_type": "code",
   "execution_count": 42,
   "metadata": {
    "colab": {
     "base_uri": "https://localhost:8080/",
     "height": 206
    },
    "id": "CHUtrhFuE6-O",
    "outputId": "1b9892b7-17b4-4530-d4a8-786a2c0037b1"
   },
   "outputs": [
    {
     "data": {
      "text/html": [
       "<style type=\"text/css\">\n",
       "#T_013c0_row0_col0, #T_013c0_row0_col2, #T_013c0_row0_col3, #T_013c0_row0_col4, #T_013c0_row0_col5, #T_013c0_row0_col7, #T_013c0_row0_col12, #T_013c0_row0_col14, #T_013c0_row1_col2, #T_013c0_row1_col3, #T_013c0_row1_col4, #T_013c0_row1_col5, #T_013c0_row1_col6, #T_013c0_row1_col7, #T_013c0_row1_col15, #T_013c0_row2_col2, #T_013c0_row2_col3, #T_013c0_row2_col4, #T_013c0_row2_col5, #T_013c0_row2_col8, #T_013c0_row2_col9, #T_013c0_row2_col10, #T_013c0_row2_col11, #T_013c0_row3_col2, #T_013c0_row3_col3, #T_013c0_row3_col4, #T_013c0_row3_col5, #T_013c0_row3_col8, #T_013c0_row3_col12, #T_013c0_row4_col2, #T_013c0_row4_col3, #T_013c0_row4_col4, #T_013c0_row4_col5, #T_013c0_row4_col8, #T_013c0_row4_col11, #T_013c0_row4_col13 {\n",
       "  background-color: #ffffff;\n",
       "  color: #000000;\n",
       "}\n",
       "#T_013c0_row0_col6, #T_013c0_row0_col8, #T_013c0_row0_col10, #T_013c0_row0_col11, #T_013c0_row0_col13, #T_013c0_row1_col8, #T_013c0_row1_col9, #T_013c0_row1_col12, #T_013c0_row2_col7, #T_013c0_row2_col12, #T_013c0_row3_col7, #T_013c0_row4_col0, #T_013c0_row4_col7, #T_013c0_row4_col14, #T_013c0_row4_col15 {\n",
       "  background-color: #000000;\n",
       "  color: #f1f1f1;\n",
       "}\n",
       "#T_013c0_row0_col9 {\n",
       "  background-color: #222222;\n",
       "  color: #f1f1f1;\n",
       "}\n",
       "#T_013c0_row0_col15, #T_013c0_row4_col10 {\n",
       "  background-color: #dddddd;\n",
       "  color: #000000;\n",
       "}\n",
       "#T_013c0_row1_col0 {\n",
       "  background-color: #d9d9d9;\n",
       "  color: #000000;\n",
       "}\n",
       "#T_013c0_row1_col10 {\n",
       "  background-color: #101010;\n",
       "  color: #f1f1f1;\n",
       "}\n",
       "#T_013c0_row1_col11 {\n",
       "  background-color: #5f5f5f;\n",
       "  color: #f1f1f1;\n",
       "}\n",
       "#T_013c0_row1_col13 {\n",
       "  background-color: #e3e3e3;\n",
       "  color: #000000;\n",
       "}\n",
       "#T_013c0_row1_col14, #T_013c0_row3_col9 {\n",
       "  background-color: #fdfdfd;\n",
       "  color: #000000;\n",
       "}\n",
       "#T_013c0_row2_col0, #T_013c0_row4_col6 {\n",
       "  background-color: #959595;\n",
       "  color: #f1f1f1;\n",
       "}\n",
       "#T_013c0_row2_col6 {\n",
       "  background-color: #e9e9e9;\n",
       "  color: #000000;\n",
       "}\n",
       "#T_013c0_row2_col13 {\n",
       "  background-color: #ebebeb;\n",
       "  color: #000000;\n",
       "}\n",
       "#T_013c0_row2_col14 {\n",
       "  background-color: #686868;\n",
       "  color: #f1f1f1;\n",
       "}\n",
       "#T_013c0_row2_col15 {\n",
       "  background-color: #636363;\n",
       "  color: #f1f1f1;\n",
       "}\n",
       "#T_013c0_row3_col0 {\n",
       "  background-color: #515151;\n",
       "  color: #f1f1f1;\n",
       "}\n",
       "#T_013c0_row3_col6 {\n",
       "  background-color: #c6c6c6;\n",
       "  color: #000000;\n",
       "}\n",
       "#T_013c0_row3_col10 {\n",
       "  background-color: #efefef;\n",
       "  color: #000000;\n",
       "}\n",
       "#T_013c0_row3_col11 {\n",
       "  background-color: #b0b0b0;\n",
       "  color: #000000;\n",
       "}\n",
       "#T_013c0_row3_col13 {\n",
       "  background-color: #f3f3f3;\n",
       "  color: #000000;\n",
       "}\n",
       "#T_013c0_row3_col14 {\n",
       "  background-color: #151515;\n",
       "  color: #f1f1f1;\n",
       "}\n",
       "#T_013c0_row3_col15 {\n",
       "  background-color: #0e0e0e;\n",
       "  color: #f1f1f1;\n",
       "}\n",
       "#T_013c0_row4_col9 {\n",
       "  background-color: #e6e6e6;\n",
       "  color: #000000;\n",
       "}\n",
       "#T_013c0_row4_col12 {\n",
       "  background-color: #cdcdcd;\n",
       "  color: #000000;\n",
       "}\n",
       "</style>\n",
       "<table id=\"T_013c0\">\n",
       "  <thead>\n",
       "    <tr>\n",
       "      <th class=\"blank level0\" >&nbsp;</th>\n",
       "      <th id=\"T_013c0_level0_col0\" class=\"col_heading level0 col0\" >instant</th>\n",
       "      <th id=\"T_013c0_level0_col1\" class=\"col_heading level0 col1\" >dteday</th>\n",
       "      <th id=\"T_013c0_level0_col2\" class=\"col_heading level0 col2\" >season</th>\n",
       "      <th id=\"T_013c0_level0_col3\" class=\"col_heading level0 col3\" >yr</th>\n",
       "      <th id=\"T_013c0_level0_col4\" class=\"col_heading level0 col4\" >mnth</th>\n",
       "      <th id=\"T_013c0_level0_col5\" class=\"col_heading level0 col5\" >holiday</th>\n",
       "      <th id=\"T_013c0_level0_col6\" class=\"col_heading level0 col6\" >weekday</th>\n",
       "      <th id=\"T_013c0_level0_col7\" class=\"col_heading level0 col7\" >workingday</th>\n",
       "      <th id=\"T_013c0_level0_col8\" class=\"col_heading level0 col8\" >weathersit</th>\n",
       "      <th id=\"T_013c0_level0_col9\" class=\"col_heading level0 col9\" >temp</th>\n",
       "      <th id=\"T_013c0_level0_col10\" class=\"col_heading level0 col10\" >atemp</th>\n",
       "      <th id=\"T_013c0_level0_col11\" class=\"col_heading level0 col11\" >hum</th>\n",
       "      <th id=\"T_013c0_level0_col12\" class=\"col_heading level0 col12\" >windspeed</th>\n",
       "      <th id=\"T_013c0_level0_col13\" class=\"col_heading level0 col13\" >casual</th>\n",
       "      <th id=\"T_013c0_level0_col14\" class=\"col_heading level0 col14\" >registered</th>\n",
       "      <th id=\"T_013c0_level0_col15\" class=\"col_heading level0 col15\" >cnt</th>\n",
       "    </tr>\n",
       "  </thead>\n",
       "  <tbody>\n",
       "    <tr>\n",
       "      <th id=\"T_013c0_level0_row0\" class=\"row_heading level0 row0\" >0</th>\n",
       "      <td id=\"T_013c0_row0_col0\" class=\"data row0 col0\" >1</td>\n",
       "      <td id=\"T_013c0_row0_col1\" class=\"data row0 col1\" >2011-01-01</td>\n",
       "      <td id=\"T_013c0_row0_col2\" class=\"data row0 col2\" >1</td>\n",
       "      <td id=\"T_013c0_row0_col3\" class=\"data row0 col3\" >0</td>\n",
       "      <td id=\"T_013c0_row0_col4\" class=\"data row0 col4\" >1</td>\n",
       "      <td id=\"T_013c0_row0_col5\" class=\"data row0 col5\" >0</td>\n",
       "      <td id=\"T_013c0_row0_col6\" class=\"data row0 col6\" >6</td>\n",
       "      <td id=\"T_013c0_row0_col7\" class=\"data row0 col7\" >0</td>\n",
       "      <td id=\"T_013c0_row0_col8\" class=\"data row0 col8\" >2</td>\n",
       "      <td id=\"T_013c0_row0_col9\" class=\"data row0 col9\" >0.344167</td>\n",
       "      <td id=\"T_013c0_row0_col10\" class=\"data row0 col10\" >0.363625</td>\n",
       "      <td id=\"T_013c0_row0_col11\" class=\"data row0 col11\" >0.805833</td>\n",
       "      <td id=\"T_013c0_row0_col12\" class=\"data row0 col12\" >0.160446</td>\n",
       "      <td id=\"T_013c0_row0_col13\" class=\"data row0 col13\" >331</td>\n",
       "      <td id=\"T_013c0_row0_col14\" class=\"data row0 col14\" >654</td>\n",
       "      <td id=\"T_013c0_row0_col15\" class=\"data row0 col15\" >985</td>\n",
       "    </tr>\n",
       "    <tr>\n",
       "      <th id=\"T_013c0_level0_row1\" class=\"row_heading level0 row1\" >1</th>\n",
       "      <td id=\"T_013c0_row1_col0\" class=\"data row1 col0\" >2</td>\n",
       "      <td id=\"T_013c0_row1_col1\" class=\"data row1 col1\" >2011-01-02</td>\n",
       "      <td id=\"T_013c0_row1_col2\" class=\"data row1 col2\" >1</td>\n",
       "      <td id=\"T_013c0_row1_col3\" class=\"data row1 col3\" >0</td>\n",
       "      <td id=\"T_013c0_row1_col4\" class=\"data row1 col4\" >1</td>\n",
       "      <td id=\"T_013c0_row1_col5\" class=\"data row1 col5\" >0</td>\n",
       "      <td id=\"T_013c0_row1_col6\" class=\"data row1 col6\" >0</td>\n",
       "      <td id=\"T_013c0_row1_col7\" class=\"data row1 col7\" >0</td>\n",
       "      <td id=\"T_013c0_row1_col8\" class=\"data row1 col8\" >2</td>\n",
       "      <td id=\"T_013c0_row1_col9\" class=\"data row1 col9\" >0.363478</td>\n",
       "      <td id=\"T_013c0_row1_col10\" class=\"data row1 col10\" >0.353739</td>\n",
       "      <td id=\"T_013c0_row1_col11\" class=\"data row1 col11\" >0.696087</td>\n",
       "      <td id=\"T_013c0_row1_col12\" class=\"data row1 col12\" >0.248539</td>\n",
       "      <td id=\"T_013c0_row1_col13\" class=\"data row1 col13\" >131</td>\n",
       "      <td id=\"T_013c0_row1_col14\" class=\"data row1 col14\" >670</td>\n",
       "      <td id=\"T_013c0_row1_col15\" class=\"data row1 col15\" >801</td>\n",
       "    </tr>\n",
       "    <tr>\n",
       "      <th id=\"T_013c0_level0_row2\" class=\"row_heading level0 row2\" >2</th>\n",
       "      <td id=\"T_013c0_row2_col0\" class=\"data row2 col0\" >3</td>\n",
       "      <td id=\"T_013c0_row2_col1\" class=\"data row2 col1\" >2011-01-03</td>\n",
       "      <td id=\"T_013c0_row2_col2\" class=\"data row2 col2\" >1</td>\n",
       "      <td id=\"T_013c0_row2_col3\" class=\"data row2 col3\" >0</td>\n",
       "      <td id=\"T_013c0_row2_col4\" class=\"data row2 col4\" >1</td>\n",
       "      <td id=\"T_013c0_row2_col5\" class=\"data row2 col5\" >0</td>\n",
       "      <td id=\"T_013c0_row2_col6\" class=\"data row2 col6\" >1</td>\n",
       "      <td id=\"T_013c0_row2_col7\" class=\"data row2 col7\" >1</td>\n",
       "      <td id=\"T_013c0_row2_col8\" class=\"data row2 col8\" >1</td>\n",
       "      <td id=\"T_013c0_row2_col9\" class=\"data row2 col9\" >0.196364</td>\n",
       "      <td id=\"T_013c0_row2_col10\" class=\"data row2 col10\" >0.189405</td>\n",
       "      <td id=\"T_013c0_row2_col11\" class=\"data row2 col11\" >0.437273</td>\n",
       "      <td id=\"T_013c0_row2_col12\" class=\"data row2 col12\" >0.248309</td>\n",
       "      <td id=\"T_013c0_row2_col13\" class=\"data row2 col13\" >120</td>\n",
       "      <td id=\"T_013c0_row2_col14\" class=\"data row2 col14\" >1229</td>\n",
       "      <td id=\"T_013c0_row2_col15\" class=\"data row2 col15\" >1349</td>\n",
       "    </tr>\n",
       "    <tr>\n",
       "      <th id=\"T_013c0_level0_row3\" class=\"row_heading level0 row3\" >3</th>\n",
       "      <td id=\"T_013c0_row3_col0\" class=\"data row3 col0\" >4</td>\n",
       "      <td id=\"T_013c0_row3_col1\" class=\"data row3 col1\" >2011-01-04</td>\n",
       "      <td id=\"T_013c0_row3_col2\" class=\"data row3 col2\" >1</td>\n",
       "      <td id=\"T_013c0_row3_col3\" class=\"data row3 col3\" >0</td>\n",
       "      <td id=\"T_013c0_row3_col4\" class=\"data row3 col4\" >1</td>\n",
       "      <td id=\"T_013c0_row3_col5\" class=\"data row3 col5\" >0</td>\n",
       "      <td id=\"T_013c0_row3_col6\" class=\"data row3 col6\" >2</td>\n",
       "      <td id=\"T_013c0_row3_col7\" class=\"data row3 col7\" >1</td>\n",
       "      <td id=\"T_013c0_row3_col8\" class=\"data row3 col8\" >1</td>\n",
       "      <td id=\"T_013c0_row3_col9\" class=\"data row3 col9\" >0.200000</td>\n",
       "      <td id=\"T_013c0_row3_col10\" class=\"data row3 col10\" >0.212122</td>\n",
       "      <td id=\"T_013c0_row3_col11\" class=\"data row3 col11\" >0.590435</td>\n",
       "      <td id=\"T_013c0_row3_col12\" class=\"data row3 col12\" >0.160296</td>\n",
       "      <td id=\"T_013c0_row3_col13\" class=\"data row3 col13\" >108</td>\n",
       "      <td id=\"T_013c0_row3_col14\" class=\"data row3 col14\" >1454</td>\n",
       "      <td id=\"T_013c0_row3_col15\" class=\"data row3 col15\" >1562</td>\n",
       "    </tr>\n",
       "    <tr>\n",
       "      <th id=\"T_013c0_level0_row4\" class=\"row_heading level0 row4\" >4</th>\n",
       "      <td id=\"T_013c0_row4_col0\" class=\"data row4 col0\" >5</td>\n",
       "      <td id=\"T_013c0_row4_col1\" class=\"data row4 col1\" >2011-01-05</td>\n",
       "      <td id=\"T_013c0_row4_col2\" class=\"data row4 col2\" >1</td>\n",
       "      <td id=\"T_013c0_row4_col3\" class=\"data row4 col3\" >0</td>\n",
       "      <td id=\"T_013c0_row4_col4\" class=\"data row4 col4\" >1</td>\n",
       "      <td id=\"T_013c0_row4_col5\" class=\"data row4 col5\" >0</td>\n",
       "      <td id=\"T_013c0_row4_col6\" class=\"data row4 col6\" >3</td>\n",
       "      <td id=\"T_013c0_row4_col7\" class=\"data row4 col7\" >1</td>\n",
       "      <td id=\"T_013c0_row4_col8\" class=\"data row4 col8\" >1</td>\n",
       "      <td id=\"T_013c0_row4_col9\" class=\"data row4 col9\" >0.226957</td>\n",
       "      <td id=\"T_013c0_row4_col10\" class=\"data row4 col10\" >0.229270</td>\n",
       "      <td id=\"T_013c0_row4_col11\" class=\"data row4 col11\" >0.436957</td>\n",
       "      <td id=\"T_013c0_row4_col12\" class=\"data row4 col12\" >0.186900</td>\n",
       "      <td id=\"T_013c0_row4_col13\" class=\"data row4 col13\" >82</td>\n",
       "      <td id=\"T_013c0_row4_col14\" class=\"data row4 col14\" >1518</td>\n",
       "      <td id=\"T_013c0_row4_col15\" class=\"data row4 col15\" >1600</td>\n",
       "    </tr>\n",
       "  </tbody>\n",
       "</table>\n"
      ],
      "text/plain": [
       "<pandas.io.formats.style.Styler at 0x25766186810>"
      ]
     },
     "execution_count": 42,
     "metadata": {},
     "output_type": "execute_result"
    }
   ],
   "source": [
    "# Untuk mempermudah analisis\n",
    "# digunakan kolom 'dteday' sebagai index dari dataframe dan berfungsi sebagai waktu\n",
    "# Keterangan Warna:\n",
    "\"\"\"\n",
    "- Warna Hitam: Tidak ada data\n",
    "- Warna Putih: Ada data\n",
    "\"\"\"\n",
    "day_df.head().style.background_gradient(cmap='Greys')"
   ]
  },
  {
   "cell_type": "code",
   "execution_count": 43,
   "metadata": {
    "colab": {
     "base_uri": "https://localhost:8080/",
     "height": 206
    },
    "id": "Z70sn8zeE7cz",
    "outputId": "b8eaacaa-2e71-437b-b3a0-2a9eaffdd48d"
   },
   "outputs": [
    {
     "data": {
      "text/html": [
       "<style type=\"text/css\">\n",
       "#T_a2d1d_row0_col0, #T_a2d1d_row0_col2, #T_a2d1d_row0_col3, #T_a2d1d_row0_col4, #T_a2d1d_row0_col5, #T_a2d1d_row0_col6, #T_a2d1d_row0_col7, #T_a2d1d_row0_col8, #T_a2d1d_row0_col9, #T_a2d1d_row0_col13, #T_a2d1d_row1_col2, #T_a2d1d_row1_col3, #T_a2d1d_row1_col4, #T_a2d1d_row1_col6, #T_a2d1d_row1_col7, #T_a2d1d_row1_col8, #T_a2d1d_row1_col9, #T_a2d1d_row1_col10, #T_a2d1d_row1_col11, #T_a2d1d_row1_col13, #T_a2d1d_row2_col2, #T_a2d1d_row2_col3, #T_a2d1d_row2_col4, #T_a2d1d_row2_col6, #T_a2d1d_row2_col7, #T_a2d1d_row2_col8, #T_a2d1d_row2_col9, #T_a2d1d_row2_col10, #T_a2d1d_row2_col11, #T_a2d1d_row2_col13, #T_a2d1d_row3_col2, #T_a2d1d_row3_col3, #T_a2d1d_row3_col4, #T_a2d1d_row3_col6, #T_a2d1d_row3_col7, #T_a2d1d_row3_col8, #T_a2d1d_row3_col9, #T_a2d1d_row3_col12, #T_a2d1d_row3_col13, #T_a2d1d_row4_col2, #T_a2d1d_row4_col3, #T_a2d1d_row4_col4, #T_a2d1d_row4_col6, #T_a2d1d_row4_col7, #T_a2d1d_row4_col8, #T_a2d1d_row4_col9, #T_a2d1d_row4_col12, #T_a2d1d_row4_col13, #T_a2d1d_row4_col14, #T_a2d1d_row4_col15, #T_a2d1d_row4_col16 {\n",
       "  background-color: #ffffff;\n",
       "  color: #000000;\n",
       "}\n",
       "#T_a2d1d_row0_col10, #T_a2d1d_row0_col11, #T_a2d1d_row0_col12, #T_a2d1d_row1_col14, #T_a2d1d_row1_col15, #T_a2d1d_row1_col16, #T_a2d1d_row3_col10, #T_a2d1d_row3_col11, #T_a2d1d_row4_col0, #T_a2d1d_row4_col5, #T_a2d1d_row4_col10, #T_a2d1d_row4_col11 {\n",
       "  background-color: #000000;\n",
       "  color: #f1f1f1;\n",
       "}\n",
       "#T_a2d1d_row0_col14, #T_a2d1d_row3_col14 {\n",
       "  background-color: #bdbdbd;\n",
       "  color: #000000;\n",
       "}\n",
       "#T_a2d1d_row0_col15 {\n",
       "  background-color: #b9b9b9;\n",
       "  color: #000000;\n",
       "}\n",
       "#T_a2d1d_row0_col16 {\n",
       "  background-color: #bababa;\n",
       "  color: #000000;\n",
       "}\n",
       "#T_a2d1d_row1_col0, #T_a2d1d_row1_col5 {\n",
       "  background-color: #d9d9d9;\n",
       "  color: #000000;\n",
       "}\n",
       "#T_a2d1d_row1_col12, #T_a2d1d_row2_col12 {\n",
       "  background-color: #333333;\n",
       "  color: #f1f1f1;\n",
       "}\n",
       "#T_a2d1d_row2_col0, #T_a2d1d_row2_col5 {\n",
       "  background-color: #959595;\n",
       "  color: #f1f1f1;\n",
       "}\n",
       "#T_a2d1d_row2_col14 {\n",
       "  background-color: #727272;\n",
       "  color: #f1f1f1;\n",
       "}\n",
       "#T_a2d1d_row2_col15 {\n",
       "  background-color: #323232;\n",
       "  color: #f1f1f1;\n",
       "}\n",
       "#T_a2d1d_row2_col16 {\n",
       "  background-color: #414141;\n",
       "  color: #f1f1f1;\n",
       "}\n",
       "#T_a2d1d_row3_col0, #T_a2d1d_row3_col5 {\n",
       "  background-color: #515151;\n",
       "  color: #f1f1f1;\n",
       "}\n",
       "#T_a2d1d_row3_col15 {\n",
       "  background-color: #d0d0d0;\n",
       "  color: #000000;\n",
       "}\n",
       "#T_a2d1d_row3_col16 {\n",
       "  background-color: #cccccc;\n",
       "  color: #000000;\n",
       "}\n",
       "</style>\n",
       "<table id=\"T_a2d1d\">\n",
       "  <thead>\n",
       "    <tr>\n",
       "      <th class=\"blank level0\" >&nbsp;</th>\n",
       "      <th id=\"T_a2d1d_level0_col0\" class=\"col_heading level0 col0\" >instant</th>\n",
       "      <th id=\"T_a2d1d_level0_col1\" class=\"col_heading level0 col1\" >dteday</th>\n",
       "      <th id=\"T_a2d1d_level0_col2\" class=\"col_heading level0 col2\" >season</th>\n",
       "      <th id=\"T_a2d1d_level0_col3\" class=\"col_heading level0 col3\" >yr</th>\n",
       "      <th id=\"T_a2d1d_level0_col4\" class=\"col_heading level0 col4\" >mnth</th>\n",
       "      <th id=\"T_a2d1d_level0_col5\" class=\"col_heading level0 col5\" >hr</th>\n",
       "      <th id=\"T_a2d1d_level0_col6\" class=\"col_heading level0 col6\" >holiday</th>\n",
       "      <th id=\"T_a2d1d_level0_col7\" class=\"col_heading level0 col7\" >weekday</th>\n",
       "      <th id=\"T_a2d1d_level0_col8\" class=\"col_heading level0 col8\" >workingday</th>\n",
       "      <th id=\"T_a2d1d_level0_col9\" class=\"col_heading level0 col9\" >weathersit</th>\n",
       "      <th id=\"T_a2d1d_level0_col10\" class=\"col_heading level0 col10\" >temp</th>\n",
       "      <th id=\"T_a2d1d_level0_col11\" class=\"col_heading level0 col11\" >atemp</th>\n",
       "      <th id=\"T_a2d1d_level0_col12\" class=\"col_heading level0 col12\" >hum</th>\n",
       "      <th id=\"T_a2d1d_level0_col13\" class=\"col_heading level0 col13\" >windspeed</th>\n",
       "      <th id=\"T_a2d1d_level0_col14\" class=\"col_heading level0 col14\" >casual</th>\n",
       "      <th id=\"T_a2d1d_level0_col15\" class=\"col_heading level0 col15\" >registered</th>\n",
       "      <th id=\"T_a2d1d_level0_col16\" class=\"col_heading level0 col16\" >cnt</th>\n",
       "    </tr>\n",
       "  </thead>\n",
       "  <tbody>\n",
       "    <tr>\n",
       "      <th id=\"T_a2d1d_level0_row0\" class=\"row_heading level0 row0\" >0</th>\n",
       "      <td id=\"T_a2d1d_row0_col0\" class=\"data row0 col0\" >1</td>\n",
       "      <td id=\"T_a2d1d_row0_col1\" class=\"data row0 col1\" >2011-01-01</td>\n",
       "      <td id=\"T_a2d1d_row0_col2\" class=\"data row0 col2\" >1</td>\n",
       "      <td id=\"T_a2d1d_row0_col3\" class=\"data row0 col3\" >0</td>\n",
       "      <td id=\"T_a2d1d_row0_col4\" class=\"data row0 col4\" >1</td>\n",
       "      <td id=\"T_a2d1d_row0_col5\" class=\"data row0 col5\" >0</td>\n",
       "      <td id=\"T_a2d1d_row0_col6\" class=\"data row0 col6\" >0</td>\n",
       "      <td id=\"T_a2d1d_row0_col7\" class=\"data row0 col7\" >6</td>\n",
       "      <td id=\"T_a2d1d_row0_col8\" class=\"data row0 col8\" >0</td>\n",
       "      <td id=\"T_a2d1d_row0_col9\" class=\"data row0 col9\" >1</td>\n",
       "      <td id=\"T_a2d1d_row0_col10\" class=\"data row0 col10\" >0.240000</td>\n",
       "      <td id=\"T_a2d1d_row0_col11\" class=\"data row0 col11\" >0.287900</td>\n",
       "      <td id=\"T_a2d1d_row0_col12\" class=\"data row0 col12\" >0.810000</td>\n",
       "      <td id=\"T_a2d1d_row0_col13\" class=\"data row0 col13\" >0.000000</td>\n",
       "      <td id=\"T_a2d1d_row0_col14\" class=\"data row0 col14\" >3</td>\n",
       "      <td id=\"T_a2d1d_row0_col15\" class=\"data row0 col15\" >13</td>\n",
       "      <td id=\"T_a2d1d_row0_col16\" class=\"data row0 col16\" >16</td>\n",
       "    </tr>\n",
       "    <tr>\n",
       "      <th id=\"T_a2d1d_level0_row1\" class=\"row_heading level0 row1\" >1</th>\n",
       "      <td id=\"T_a2d1d_row1_col0\" class=\"data row1 col0\" >2</td>\n",
       "      <td id=\"T_a2d1d_row1_col1\" class=\"data row1 col1\" >2011-01-01</td>\n",
       "      <td id=\"T_a2d1d_row1_col2\" class=\"data row1 col2\" >1</td>\n",
       "      <td id=\"T_a2d1d_row1_col3\" class=\"data row1 col3\" >0</td>\n",
       "      <td id=\"T_a2d1d_row1_col4\" class=\"data row1 col4\" >1</td>\n",
       "      <td id=\"T_a2d1d_row1_col5\" class=\"data row1 col5\" >1</td>\n",
       "      <td id=\"T_a2d1d_row1_col6\" class=\"data row1 col6\" >0</td>\n",
       "      <td id=\"T_a2d1d_row1_col7\" class=\"data row1 col7\" >6</td>\n",
       "      <td id=\"T_a2d1d_row1_col8\" class=\"data row1 col8\" >0</td>\n",
       "      <td id=\"T_a2d1d_row1_col9\" class=\"data row1 col9\" >1</td>\n",
       "      <td id=\"T_a2d1d_row1_col10\" class=\"data row1 col10\" >0.220000</td>\n",
       "      <td id=\"T_a2d1d_row1_col11\" class=\"data row1 col11\" >0.272700</td>\n",
       "      <td id=\"T_a2d1d_row1_col12\" class=\"data row1 col12\" >0.800000</td>\n",
       "      <td id=\"T_a2d1d_row1_col13\" class=\"data row1 col13\" >0.000000</td>\n",
       "      <td id=\"T_a2d1d_row1_col14\" class=\"data row1 col14\" >8</td>\n",
       "      <td id=\"T_a2d1d_row1_col15\" class=\"data row1 col15\" >32</td>\n",
       "      <td id=\"T_a2d1d_row1_col16\" class=\"data row1 col16\" >40</td>\n",
       "    </tr>\n",
       "    <tr>\n",
       "      <th id=\"T_a2d1d_level0_row2\" class=\"row_heading level0 row2\" >2</th>\n",
       "      <td id=\"T_a2d1d_row2_col0\" class=\"data row2 col0\" >3</td>\n",
       "      <td id=\"T_a2d1d_row2_col1\" class=\"data row2 col1\" >2011-01-01</td>\n",
       "      <td id=\"T_a2d1d_row2_col2\" class=\"data row2 col2\" >1</td>\n",
       "      <td id=\"T_a2d1d_row2_col3\" class=\"data row2 col3\" >0</td>\n",
       "      <td id=\"T_a2d1d_row2_col4\" class=\"data row2 col4\" >1</td>\n",
       "      <td id=\"T_a2d1d_row2_col5\" class=\"data row2 col5\" >2</td>\n",
       "      <td id=\"T_a2d1d_row2_col6\" class=\"data row2 col6\" >0</td>\n",
       "      <td id=\"T_a2d1d_row2_col7\" class=\"data row2 col7\" >6</td>\n",
       "      <td id=\"T_a2d1d_row2_col8\" class=\"data row2 col8\" >0</td>\n",
       "      <td id=\"T_a2d1d_row2_col9\" class=\"data row2 col9\" >1</td>\n",
       "      <td id=\"T_a2d1d_row2_col10\" class=\"data row2 col10\" >0.220000</td>\n",
       "      <td id=\"T_a2d1d_row2_col11\" class=\"data row2 col11\" >0.272700</td>\n",
       "      <td id=\"T_a2d1d_row2_col12\" class=\"data row2 col12\" >0.800000</td>\n",
       "      <td id=\"T_a2d1d_row2_col13\" class=\"data row2 col13\" >0.000000</td>\n",
       "      <td id=\"T_a2d1d_row2_col14\" class=\"data row2 col14\" >5</td>\n",
       "      <td id=\"T_a2d1d_row2_col15\" class=\"data row2 col15\" >27</td>\n",
       "      <td id=\"T_a2d1d_row2_col16\" class=\"data row2 col16\" >32</td>\n",
       "    </tr>\n",
       "    <tr>\n",
       "      <th id=\"T_a2d1d_level0_row3\" class=\"row_heading level0 row3\" >3</th>\n",
       "      <td id=\"T_a2d1d_row3_col0\" class=\"data row3 col0\" >4</td>\n",
       "      <td id=\"T_a2d1d_row3_col1\" class=\"data row3 col1\" >2011-01-01</td>\n",
       "      <td id=\"T_a2d1d_row3_col2\" class=\"data row3 col2\" >1</td>\n",
       "      <td id=\"T_a2d1d_row3_col3\" class=\"data row3 col3\" >0</td>\n",
       "      <td id=\"T_a2d1d_row3_col4\" class=\"data row3 col4\" >1</td>\n",
       "      <td id=\"T_a2d1d_row3_col5\" class=\"data row3 col5\" >3</td>\n",
       "      <td id=\"T_a2d1d_row3_col6\" class=\"data row3 col6\" >0</td>\n",
       "      <td id=\"T_a2d1d_row3_col7\" class=\"data row3 col7\" >6</td>\n",
       "      <td id=\"T_a2d1d_row3_col8\" class=\"data row3 col8\" >0</td>\n",
       "      <td id=\"T_a2d1d_row3_col9\" class=\"data row3 col9\" >1</td>\n",
       "      <td id=\"T_a2d1d_row3_col10\" class=\"data row3 col10\" >0.240000</td>\n",
       "      <td id=\"T_a2d1d_row3_col11\" class=\"data row3 col11\" >0.287900</td>\n",
       "      <td id=\"T_a2d1d_row3_col12\" class=\"data row3 col12\" >0.750000</td>\n",
       "      <td id=\"T_a2d1d_row3_col13\" class=\"data row3 col13\" >0.000000</td>\n",
       "      <td id=\"T_a2d1d_row3_col14\" class=\"data row3 col14\" >3</td>\n",
       "      <td id=\"T_a2d1d_row3_col15\" class=\"data row3 col15\" >10</td>\n",
       "      <td id=\"T_a2d1d_row3_col16\" class=\"data row3 col16\" >13</td>\n",
       "    </tr>\n",
       "    <tr>\n",
       "      <th id=\"T_a2d1d_level0_row4\" class=\"row_heading level0 row4\" >4</th>\n",
       "      <td id=\"T_a2d1d_row4_col0\" class=\"data row4 col0\" >5</td>\n",
       "      <td id=\"T_a2d1d_row4_col1\" class=\"data row4 col1\" >2011-01-01</td>\n",
       "      <td id=\"T_a2d1d_row4_col2\" class=\"data row4 col2\" >1</td>\n",
       "      <td id=\"T_a2d1d_row4_col3\" class=\"data row4 col3\" >0</td>\n",
       "      <td id=\"T_a2d1d_row4_col4\" class=\"data row4 col4\" >1</td>\n",
       "      <td id=\"T_a2d1d_row4_col5\" class=\"data row4 col5\" >4</td>\n",
       "      <td id=\"T_a2d1d_row4_col6\" class=\"data row4 col6\" >0</td>\n",
       "      <td id=\"T_a2d1d_row4_col7\" class=\"data row4 col7\" >6</td>\n",
       "      <td id=\"T_a2d1d_row4_col8\" class=\"data row4 col8\" >0</td>\n",
       "      <td id=\"T_a2d1d_row4_col9\" class=\"data row4 col9\" >1</td>\n",
       "      <td id=\"T_a2d1d_row4_col10\" class=\"data row4 col10\" >0.240000</td>\n",
       "      <td id=\"T_a2d1d_row4_col11\" class=\"data row4 col11\" >0.287900</td>\n",
       "      <td id=\"T_a2d1d_row4_col12\" class=\"data row4 col12\" >0.750000</td>\n",
       "      <td id=\"T_a2d1d_row4_col13\" class=\"data row4 col13\" >0.000000</td>\n",
       "      <td id=\"T_a2d1d_row4_col14\" class=\"data row4 col14\" >0</td>\n",
       "      <td id=\"T_a2d1d_row4_col15\" class=\"data row4 col15\" >1</td>\n",
       "      <td id=\"T_a2d1d_row4_col16\" class=\"data row4 col16\" >1</td>\n",
       "    </tr>\n",
       "  </tbody>\n",
       "</table>\n"
      ],
      "text/plain": [
       "<pandas.io.formats.style.Styler at 0x257637cf990>"
      ]
     },
     "execution_count": 43,
     "metadata": {},
     "output_type": "execute_result"
    }
   ],
   "source": [
    "hour_df.head().style.background_gradient(cmap='Greys')"
   ]
  },
  {
   "cell_type": "markdown",
   "metadata": {
    "id": "FHSiqaZp8DC1"
   },
   "source": [
    "### Assessing Data\n",
    "Pemeriksaan data ini dilakukan dengan menjalankan proses assessing data. Ia merupakan proses yang bertujuan untuk mengidentifikasi masalah yang terdapat dalam data dan memastikan data tersebut berkualitas."
   ]
  },
  {
   "cell_type": "code",
   "execution_count": 44,
   "metadata": {
    "colab": {
     "base_uri": "https://localhost:8080/"
    },
    "id": "ax-3tEjc9Cj1",
    "outputId": "432b497a-afbd-4203-a266-2f163582b202"
   },
   "outputs": [
    {
     "name": "stdout",
     "output_type": "stream",
     "text": [
      "<class 'pandas.core.frame.DataFrame'>\n",
      "RangeIndex: 731 entries, 0 to 730\n",
      "Data columns (total 16 columns):\n",
      " #   Column      Non-Null Count  Dtype  \n",
      "---  ------      --------------  -----  \n",
      " 0   instant     731 non-null    int64  \n",
      " 1   dteday      731 non-null    object \n",
      " 2   season      731 non-null    int64  \n",
      " 3   yr          731 non-null    int64  \n",
      " 4   mnth        731 non-null    int64  \n",
      " 5   holiday     731 non-null    int64  \n",
      " 6   weekday     731 non-null    int64  \n",
      " 7   workingday  731 non-null    int64  \n",
      " 8   weathersit  731 non-null    int64  \n",
      " 9   temp        731 non-null    float64\n",
      " 10  atemp       731 non-null    float64\n",
      " 11  hum         731 non-null    float64\n",
      " 12  windspeed   731 non-null    float64\n",
      " 13  casual      731 non-null    int64  \n",
      " 14  registered  731 non-null    int64  \n",
      " 15  cnt         731 non-null    int64  \n",
      "dtypes: float64(4), int64(11), object(1)\n",
      "memory usage: 91.5+ KB\n"
     ]
    }
   ],
   "source": [
    "# Mengecek apakah ada data yang hilang pada dataset dan tipe data dari masing-masing kolom\n",
    "day_df.info()"
   ]
  },
  {
   "cell_type": "code",
   "execution_count": 45,
   "metadata": {
    "colab": {
     "base_uri": "https://localhost:8080/"
    },
    "id": "VVYOuqOcfxFY",
    "outputId": "f105e7ea-c9f0-488a-8f5b-bc548b713053"
   },
   "outputs": [
    {
     "data": {
      "text/plain": [
       "instant                6\n",
       "dteday        2011-01-06\n",
       "season                 1\n",
       "yr                     0\n",
       "mnth                   1\n",
       "holiday                0\n",
       "weekday                4\n",
       "workingday             1\n",
       "weathersit             1\n",
       "temp                0.20\n",
       "atemp               0.23\n",
       "hum                 0.52\n",
       "windspeed           0.09\n",
       "casual                88\n",
       "registered          1518\n",
       "cnt                 1606\n",
       "Name: 5, dtype: object"
      ]
     },
     "execution_count": 45,
     "metadata": {},
     "output_type": "execute_result"
    }
   ],
   "source": [
    "# Mengecek kolom dari dataset\n",
    "day_df.iloc[5]"
   ]
  },
  {
   "cell_type": "code",
   "execution_count": 46,
   "metadata": {
    "colab": {
     "base_uri": "https://localhost:8080/"
    },
    "id": "FT_YXNovcGiH",
    "outputId": "3c412b48-bc44-48fd-b785-bfb5a9f84703"
   },
   "outputs": [
    {
     "name": "stdout",
     "output_type": "stream",
     "text": [
      "<class 'pandas.core.frame.DataFrame'>\n",
      "RangeIndex: 17379 entries, 0 to 17378\n",
      "Data columns (total 17 columns):\n",
      " #   Column      Non-Null Count  Dtype  \n",
      "---  ------      --------------  -----  \n",
      " 0   instant     17379 non-null  int64  \n",
      " 1   dteday      17379 non-null  object \n",
      " 2   season      17379 non-null  int64  \n",
      " 3   yr          17379 non-null  int64  \n",
      " 4   mnth        17379 non-null  int64  \n",
      " 5   hr          17379 non-null  int64  \n",
      " 6   holiday     17379 non-null  int64  \n",
      " 7   weekday     17379 non-null  int64  \n",
      " 8   workingday  17379 non-null  int64  \n",
      " 9   weathersit  17379 non-null  int64  \n",
      " 10  temp        17379 non-null  float64\n",
      " 11  atemp       17379 non-null  float64\n",
      " 12  hum         17379 non-null  float64\n",
      " 13  windspeed   17379 non-null  float64\n",
      " 14  casual      17379 non-null  int64  \n",
      " 15  registered  17379 non-null  int64  \n",
      " 16  cnt         17379 non-null  int64  \n",
      "dtypes: float64(4), int64(12), object(1)\n",
      "memory usage: 2.3+ MB\n"
     ]
    }
   ],
   "source": [
    "hour_df.info()"
   ]
  },
  {
   "cell_type": "code",
   "execution_count": 47,
   "metadata": {
    "colab": {
     "base_uri": "https://localhost:8080/"
    },
    "id": "mGueHdg0f1lG",
    "outputId": "0cae2be5-cab5-4477-cdc1-2c9d7f3c934b"
   },
   "outputs": [
    {
     "data": {
      "text/plain": [
       "instant                6\n",
       "dteday        2011-01-01\n",
       "season                 1\n",
       "yr                     0\n",
       "mnth                   1\n",
       "hr                     5\n",
       "holiday                0\n",
       "weekday                6\n",
       "workingday             0\n",
       "weathersit             2\n",
       "temp                0.24\n",
       "atemp               0.26\n",
       "hum                 0.75\n",
       "windspeed           0.09\n",
       "casual                 0\n",
       "registered             1\n",
       "cnt                    1\n",
       "Name: 5, dtype: object"
      ]
     },
     "execution_count": 47,
     "metadata": {},
     "output_type": "execute_result"
    }
   ],
   "source": [
    "hour_df.iloc[5]"
   ]
  },
  {
   "cell_type": "code",
   "execution_count": 48,
   "metadata": {
    "colab": {
     "base_uri": "https://localhost:8080/",
     "height": 394
    },
    "id": "mToXuueAdInH",
    "outputId": "d5485d13-f216-464f-bbcf-340128fe29c5"
   },
   "outputs": [
    {
     "data": {
      "text/html": [
       "<div>\n",
       "<style scoped>\n",
       "    .dataframe tbody tr th:only-of-type {\n",
       "        vertical-align: middle;\n",
       "    }\n",
       "\n",
       "    .dataframe tbody tr th {\n",
       "        vertical-align: top;\n",
       "    }\n",
       "\n",
       "    .dataframe thead th {\n",
       "        text-align: right;\n",
       "    }\n",
       "</style>\n",
       "<table border=\"1\" class=\"dataframe\">\n",
       "  <thead>\n",
       "    <tr style=\"text-align: right;\">\n",
       "      <th></th>\n",
       "      <th>instant</th>\n",
       "      <th>dteday</th>\n",
       "      <th>season</th>\n",
       "      <th>yr</th>\n",
       "      <th>mnth</th>\n",
       "      <th>holiday</th>\n",
       "      <th>weekday</th>\n",
       "      <th>workingday</th>\n",
       "      <th>weathersit</th>\n",
       "      <th>temp</th>\n",
       "      <th>atemp</th>\n",
       "      <th>hum</th>\n",
       "      <th>windspeed</th>\n",
       "      <th>casual</th>\n",
       "      <th>registered</th>\n",
       "      <th>cnt</th>\n",
       "    </tr>\n",
       "  </thead>\n",
       "  <tbody>\n",
       "    <tr>\n",
       "      <th>count</th>\n",
       "      <td>731.00</td>\n",
       "      <td>731</td>\n",
       "      <td>731.00</td>\n",
       "      <td>731.00</td>\n",
       "      <td>731.00</td>\n",
       "      <td>731.00</td>\n",
       "      <td>731.00</td>\n",
       "      <td>731.00</td>\n",
       "      <td>731.00</td>\n",
       "      <td>731.00</td>\n",
       "      <td>731.00</td>\n",
       "      <td>731.00</td>\n",
       "      <td>731.00</td>\n",
       "      <td>731.00</td>\n",
       "      <td>731.00</td>\n",
       "      <td>731.00</td>\n",
       "    </tr>\n",
       "    <tr>\n",
       "      <th>unique</th>\n",
       "      <td>NaN</td>\n",
       "      <td>731</td>\n",
       "      <td>NaN</td>\n",
       "      <td>NaN</td>\n",
       "      <td>NaN</td>\n",
       "      <td>NaN</td>\n",
       "      <td>NaN</td>\n",
       "      <td>NaN</td>\n",
       "      <td>NaN</td>\n",
       "      <td>NaN</td>\n",
       "      <td>NaN</td>\n",
       "      <td>NaN</td>\n",
       "      <td>NaN</td>\n",
       "      <td>NaN</td>\n",
       "      <td>NaN</td>\n",
       "      <td>NaN</td>\n",
       "    </tr>\n",
       "    <tr>\n",
       "      <th>top</th>\n",
       "      <td>NaN</td>\n",
       "      <td>2011-01-01</td>\n",
       "      <td>NaN</td>\n",
       "      <td>NaN</td>\n",
       "      <td>NaN</td>\n",
       "      <td>NaN</td>\n",
       "      <td>NaN</td>\n",
       "      <td>NaN</td>\n",
       "      <td>NaN</td>\n",
       "      <td>NaN</td>\n",
       "      <td>NaN</td>\n",
       "      <td>NaN</td>\n",
       "      <td>NaN</td>\n",
       "      <td>NaN</td>\n",
       "      <td>NaN</td>\n",
       "      <td>NaN</td>\n",
       "    </tr>\n",
       "    <tr>\n",
       "      <th>freq</th>\n",
       "      <td>NaN</td>\n",
       "      <td>1</td>\n",
       "      <td>NaN</td>\n",
       "      <td>NaN</td>\n",
       "      <td>NaN</td>\n",
       "      <td>NaN</td>\n",
       "      <td>NaN</td>\n",
       "      <td>NaN</td>\n",
       "      <td>NaN</td>\n",
       "      <td>NaN</td>\n",
       "      <td>NaN</td>\n",
       "      <td>NaN</td>\n",
       "      <td>NaN</td>\n",
       "      <td>NaN</td>\n",
       "      <td>NaN</td>\n",
       "      <td>NaN</td>\n",
       "    </tr>\n",
       "    <tr>\n",
       "      <th>mean</th>\n",
       "      <td>366.00</td>\n",
       "      <td>NaN</td>\n",
       "      <td>2.50</td>\n",
       "      <td>0.50</td>\n",
       "      <td>6.52</td>\n",
       "      <td>0.03</td>\n",
       "      <td>3.00</td>\n",
       "      <td>0.68</td>\n",
       "      <td>1.40</td>\n",
       "      <td>0.50</td>\n",
       "      <td>0.47</td>\n",
       "      <td>0.63</td>\n",
       "      <td>0.19</td>\n",
       "      <td>848.18</td>\n",
       "      <td>3656.17</td>\n",
       "      <td>4504.35</td>\n",
       "    </tr>\n",
       "    <tr>\n",
       "      <th>std</th>\n",
       "      <td>211.17</td>\n",
       "      <td>NaN</td>\n",
       "      <td>1.11</td>\n",
       "      <td>0.50</td>\n",
       "      <td>3.45</td>\n",
       "      <td>0.17</td>\n",
       "      <td>2.00</td>\n",
       "      <td>0.47</td>\n",
       "      <td>0.54</td>\n",
       "      <td>0.18</td>\n",
       "      <td>0.16</td>\n",
       "      <td>0.14</td>\n",
       "      <td>0.08</td>\n",
       "      <td>686.62</td>\n",
       "      <td>1560.26</td>\n",
       "      <td>1937.21</td>\n",
       "    </tr>\n",
       "    <tr>\n",
       "      <th>min</th>\n",
       "      <td>1.00</td>\n",
       "      <td>NaN</td>\n",
       "      <td>1.00</td>\n",
       "      <td>0.00</td>\n",
       "      <td>1.00</td>\n",
       "      <td>0.00</td>\n",
       "      <td>0.00</td>\n",
       "      <td>0.00</td>\n",
       "      <td>1.00</td>\n",
       "      <td>0.06</td>\n",
       "      <td>0.08</td>\n",
       "      <td>0.00</td>\n",
       "      <td>0.02</td>\n",
       "      <td>2.00</td>\n",
       "      <td>20.00</td>\n",
       "      <td>22.00</td>\n",
       "    </tr>\n",
       "    <tr>\n",
       "      <th>25%</th>\n",
       "      <td>183.50</td>\n",
       "      <td>NaN</td>\n",
       "      <td>2.00</td>\n",
       "      <td>0.00</td>\n",
       "      <td>4.00</td>\n",
       "      <td>0.00</td>\n",
       "      <td>1.00</td>\n",
       "      <td>0.00</td>\n",
       "      <td>1.00</td>\n",
       "      <td>0.34</td>\n",
       "      <td>0.34</td>\n",
       "      <td>0.52</td>\n",
       "      <td>0.13</td>\n",
       "      <td>315.50</td>\n",
       "      <td>2497.00</td>\n",
       "      <td>3152.00</td>\n",
       "    </tr>\n",
       "    <tr>\n",
       "      <th>50%</th>\n",
       "      <td>366.00</td>\n",
       "      <td>NaN</td>\n",
       "      <td>3.00</td>\n",
       "      <td>1.00</td>\n",
       "      <td>7.00</td>\n",
       "      <td>0.00</td>\n",
       "      <td>3.00</td>\n",
       "      <td>1.00</td>\n",
       "      <td>1.00</td>\n",
       "      <td>0.50</td>\n",
       "      <td>0.49</td>\n",
       "      <td>0.63</td>\n",
       "      <td>0.18</td>\n",
       "      <td>713.00</td>\n",
       "      <td>3662.00</td>\n",
       "      <td>4548.00</td>\n",
       "    </tr>\n",
       "    <tr>\n",
       "      <th>75%</th>\n",
       "      <td>548.50</td>\n",
       "      <td>NaN</td>\n",
       "      <td>3.00</td>\n",
       "      <td>1.00</td>\n",
       "      <td>10.00</td>\n",
       "      <td>0.00</td>\n",
       "      <td>5.00</td>\n",
       "      <td>1.00</td>\n",
       "      <td>2.00</td>\n",
       "      <td>0.66</td>\n",
       "      <td>0.61</td>\n",
       "      <td>0.73</td>\n",
       "      <td>0.23</td>\n",
       "      <td>1096.00</td>\n",
       "      <td>4776.50</td>\n",
       "      <td>5956.00</td>\n",
       "    </tr>\n",
       "    <tr>\n",
       "      <th>max</th>\n",
       "      <td>731.00</td>\n",
       "      <td>NaN</td>\n",
       "      <td>4.00</td>\n",
       "      <td>1.00</td>\n",
       "      <td>12.00</td>\n",
       "      <td>1.00</td>\n",
       "      <td>6.00</td>\n",
       "      <td>1.00</td>\n",
       "      <td>3.00</td>\n",
       "      <td>0.86</td>\n",
       "      <td>0.84</td>\n",
       "      <td>0.97</td>\n",
       "      <td>0.51</td>\n",
       "      <td>3410.00</td>\n",
       "      <td>6946.00</td>\n",
       "      <td>8714.00</td>\n",
       "    </tr>\n",
       "  </tbody>\n",
       "</table>\n",
       "</div>"
      ],
      "text/plain": [
       "        instant      dteday  season     yr   mnth  holiday  weekday  \\\n",
       "count    731.00         731  731.00 731.00 731.00   731.00   731.00   \n",
       "unique      NaN         731     NaN    NaN    NaN      NaN      NaN   \n",
       "top         NaN  2011-01-01     NaN    NaN    NaN      NaN      NaN   \n",
       "freq        NaN           1     NaN    NaN    NaN      NaN      NaN   \n",
       "mean     366.00         NaN    2.50   0.50   6.52     0.03     3.00   \n",
       "std      211.17         NaN    1.11   0.50   3.45     0.17     2.00   \n",
       "min        1.00         NaN    1.00   0.00   1.00     0.00     0.00   \n",
       "25%      183.50         NaN    2.00   0.00   4.00     0.00     1.00   \n",
       "50%      366.00         NaN    3.00   1.00   7.00     0.00     3.00   \n",
       "75%      548.50         NaN    3.00   1.00  10.00     0.00     5.00   \n",
       "max      731.00         NaN    4.00   1.00  12.00     1.00     6.00   \n",
       "\n",
       "        workingday  weathersit   temp  atemp    hum  windspeed  casual  \\\n",
       "count       731.00      731.00 731.00 731.00 731.00     731.00  731.00   \n",
       "unique         NaN         NaN    NaN    NaN    NaN        NaN     NaN   \n",
       "top            NaN         NaN    NaN    NaN    NaN        NaN     NaN   \n",
       "freq           NaN         NaN    NaN    NaN    NaN        NaN     NaN   \n",
       "mean          0.68        1.40   0.50   0.47   0.63       0.19  848.18   \n",
       "std           0.47        0.54   0.18   0.16   0.14       0.08  686.62   \n",
       "min           0.00        1.00   0.06   0.08   0.00       0.02    2.00   \n",
       "25%           0.00        1.00   0.34   0.34   0.52       0.13  315.50   \n",
       "50%           1.00        1.00   0.50   0.49   0.63       0.18  713.00   \n",
       "75%           1.00        2.00   0.66   0.61   0.73       0.23 1096.00   \n",
       "max           1.00        3.00   0.86   0.84   0.97       0.51 3410.00   \n",
       "\n",
       "        registered     cnt  \n",
       "count       731.00  731.00  \n",
       "unique         NaN     NaN  \n",
       "top            NaN     NaN  \n",
       "freq           NaN     NaN  \n",
       "mean       3656.17 4504.35  \n",
       "std        1560.26 1937.21  \n",
       "min          20.00   22.00  \n",
       "25%        2497.00 3152.00  \n",
       "50%        3662.00 4548.00  \n",
       "75%        4776.50 5956.00  \n",
       "max        6946.00 8714.00  "
      ]
     },
     "execution_count": 48,
     "metadata": {},
     "output_type": "execute_result"
    }
   ],
   "source": [
    "day_df.describe(include=\"all\")"
   ]
  },
  {
   "cell_type": "code",
   "execution_count": 49,
   "metadata": {
    "colab": {
     "base_uri": "https://localhost:8080/",
     "height": 431
    },
    "id": "pJHK_-mFdOI3",
    "outputId": "bc957274-bada-419f-a059-9e0df62b098a"
   },
   "outputs": [
    {
     "data": {
      "text/html": [
       "<div>\n",
       "<style scoped>\n",
       "    .dataframe tbody tr th:only-of-type {\n",
       "        vertical-align: middle;\n",
       "    }\n",
       "\n",
       "    .dataframe tbody tr th {\n",
       "        vertical-align: top;\n",
       "    }\n",
       "\n",
       "    .dataframe thead th {\n",
       "        text-align: right;\n",
       "    }\n",
       "</style>\n",
       "<table border=\"1\" class=\"dataframe\">\n",
       "  <thead>\n",
       "    <tr style=\"text-align: right;\">\n",
       "      <th></th>\n",
       "      <th>instant</th>\n",
       "      <th>dteday</th>\n",
       "      <th>season</th>\n",
       "      <th>yr</th>\n",
       "      <th>mnth</th>\n",
       "      <th>hr</th>\n",
       "      <th>holiday</th>\n",
       "      <th>weekday</th>\n",
       "      <th>workingday</th>\n",
       "      <th>weathersit</th>\n",
       "      <th>temp</th>\n",
       "      <th>atemp</th>\n",
       "      <th>hum</th>\n",
       "      <th>windspeed</th>\n",
       "      <th>casual</th>\n",
       "      <th>registered</th>\n",
       "      <th>cnt</th>\n",
       "    </tr>\n",
       "  </thead>\n",
       "  <tbody>\n",
       "    <tr>\n",
       "      <th>count</th>\n",
       "      <td>17379.00</td>\n",
       "      <td>17379</td>\n",
       "      <td>17379.00</td>\n",
       "      <td>17379.00</td>\n",
       "      <td>17379.00</td>\n",
       "      <td>17379.00</td>\n",
       "      <td>17379.00</td>\n",
       "      <td>17379.00</td>\n",
       "      <td>17379.00</td>\n",
       "      <td>17379.00</td>\n",
       "      <td>17379.00</td>\n",
       "      <td>17379.00</td>\n",
       "      <td>17379.00</td>\n",
       "      <td>17379.00</td>\n",
       "      <td>17379.00</td>\n",
       "      <td>17379.00</td>\n",
       "      <td>17379.00</td>\n",
       "    </tr>\n",
       "    <tr>\n",
       "      <th>unique</th>\n",
       "      <td>NaN</td>\n",
       "      <td>731</td>\n",
       "      <td>NaN</td>\n",
       "      <td>NaN</td>\n",
       "      <td>NaN</td>\n",
       "      <td>NaN</td>\n",
       "      <td>NaN</td>\n",
       "      <td>NaN</td>\n",
       "      <td>NaN</td>\n",
       "      <td>NaN</td>\n",
       "      <td>NaN</td>\n",
       "      <td>NaN</td>\n",
       "      <td>NaN</td>\n",
       "      <td>NaN</td>\n",
       "      <td>NaN</td>\n",
       "      <td>NaN</td>\n",
       "      <td>NaN</td>\n",
       "    </tr>\n",
       "    <tr>\n",
       "      <th>top</th>\n",
       "      <td>NaN</td>\n",
       "      <td>2011-01-01</td>\n",
       "      <td>NaN</td>\n",
       "      <td>NaN</td>\n",
       "      <td>NaN</td>\n",
       "      <td>NaN</td>\n",
       "      <td>NaN</td>\n",
       "      <td>NaN</td>\n",
       "      <td>NaN</td>\n",
       "      <td>NaN</td>\n",
       "      <td>NaN</td>\n",
       "      <td>NaN</td>\n",
       "      <td>NaN</td>\n",
       "      <td>NaN</td>\n",
       "      <td>NaN</td>\n",
       "      <td>NaN</td>\n",
       "      <td>NaN</td>\n",
       "    </tr>\n",
       "    <tr>\n",
       "      <th>freq</th>\n",
       "      <td>NaN</td>\n",
       "      <td>24</td>\n",
       "      <td>NaN</td>\n",
       "      <td>NaN</td>\n",
       "      <td>NaN</td>\n",
       "      <td>NaN</td>\n",
       "      <td>NaN</td>\n",
       "      <td>NaN</td>\n",
       "      <td>NaN</td>\n",
       "      <td>NaN</td>\n",
       "      <td>NaN</td>\n",
       "      <td>NaN</td>\n",
       "      <td>NaN</td>\n",
       "      <td>NaN</td>\n",
       "      <td>NaN</td>\n",
       "      <td>NaN</td>\n",
       "      <td>NaN</td>\n",
       "    </tr>\n",
       "    <tr>\n",
       "      <th>mean</th>\n",
       "      <td>8690.00</td>\n",
       "      <td>NaN</td>\n",
       "      <td>2.50</td>\n",
       "      <td>0.50</td>\n",
       "      <td>6.54</td>\n",
       "      <td>11.55</td>\n",
       "      <td>0.03</td>\n",
       "      <td>3.00</td>\n",
       "      <td>0.68</td>\n",
       "      <td>1.43</td>\n",
       "      <td>0.50</td>\n",
       "      <td>0.48</td>\n",
       "      <td>0.63</td>\n",
       "      <td>0.19</td>\n",
       "      <td>35.68</td>\n",
       "      <td>153.79</td>\n",
       "      <td>189.46</td>\n",
       "    </tr>\n",
       "    <tr>\n",
       "      <th>std</th>\n",
       "      <td>5017.03</td>\n",
       "      <td>NaN</td>\n",
       "      <td>1.11</td>\n",
       "      <td>0.50</td>\n",
       "      <td>3.44</td>\n",
       "      <td>6.91</td>\n",
       "      <td>0.17</td>\n",
       "      <td>2.01</td>\n",
       "      <td>0.47</td>\n",
       "      <td>0.64</td>\n",
       "      <td>0.19</td>\n",
       "      <td>0.17</td>\n",
       "      <td>0.19</td>\n",
       "      <td>0.12</td>\n",
       "      <td>49.31</td>\n",
       "      <td>151.36</td>\n",
       "      <td>181.39</td>\n",
       "    </tr>\n",
       "    <tr>\n",
       "      <th>min</th>\n",
       "      <td>1.00</td>\n",
       "      <td>NaN</td>\n",
       "      <td>1.00</td>\n",
       "      <td>0.00</td>\n",
       "      <td>1.00</td>\n",
       "      <td>0.00</td>\n",
       "      <td>0.00</td>\n",
       "      <td>0.00</td>\n",
       "      <td>0.00</td>\n",
       "      <td>1.00</td>\n",
       "      <td>0.02</td>\n",
       "      <td>0.00</td>\n",
       "      <td>0.00</td>\n",
       "      <td>0.00</td>\n",
       "      <td>0.00</td>\n",
       "      <td>0.00</td>\n",
       "      <td>1.00</td>\n",
       "    </tr>\n",
       "    <tr>\n",
       "      <th>25%</th>\n",
       "      <td>4345.50</td>\n",
       "      <td>NaN</td>\n",
       "      <td>2.00</td>\n",
       "      <td>0.00</td>\n",
       "      <td>4.00</td>\n",
       "      <td>6.00</td>\n",
       "      <td>0.00</td>\n",
       "      <td>1.00</td>\n",
       "      <td>0.00</td>\n",
       "      <td>1.00</td>\n",
       "      <td>0.34</td>\n",
       "      <td>0.33</td>\n",
       "      <td>0.48</td>\n",
       "      <td>0.10</td>\n",
       "      <td>4.00</td>\n",
       "      <td>34.00</td>\n",
       "      <td>40.00</td>\n",
       "    </tr>\n",
       "    <tr>\n",
       "      <th>50%</th>\n",
       "      <td>8690.00</td>\n",
       "      <td>NaN</td>\n",
       "      <td>3.00</td>\n",
       "      <td>1.00</td>\n",
       "      <td>7.00</td>\n",
       "      <td>12.00</td>\n",
       "      <td>0.00</td>\n",
       "      <td>3.00</td>\n",
       "      <td>1.00</td>\n",
       "      <td>1.00</td>\n",
       "      <td>0.50</td>\n",
       "      <td>0.48</td>\n",
       "      <td>0.63</td>\n",
       "      <td>0.19</td>\n",
       "      <td>17.00</td>\n",
       "      <td>115.00</td>\n",
       "      <td>142.00</td>\n",
       "    </tr>\n",
       "    <tr>\n",
       "      <th>75%</th>\n",
       "      <td>13034.50</td>\n",
       "      <td>NaN</td>\n",
       "      <td>3.00</td>\n",
       "      <td>1.00</td>\n",
       "      <td>10.00</td>\n",
       "      <td>18.00</td>\n",
       "      <td>0.00</td>\n",
       "      <td>5.00</td>\n",
       "      <td>1.00</td>\n",
       "      <td>2.00</td>\n",
       "      <td>0.66</td>\n",
       "      <td>0.62</td>\n",
       "      <td>0.78</td>\n",
       "      <td>0.25</td>\n",
       "      <td>48.00</td>\n",
       "      <td>220.00</td>\n",
       "      <td>281.00</td>\n",
       "    </tr>\n",
       "    <tr>\n",
       "      <th>max</th>\n",
       "      <td>17379.00</td>\n",
       "      <td>NaN</td>\n",
       "      <td>4.00</td>\n",
       "      <td>1.00</td>\n",
       "      <td>12.00</td>\n",
       "      <td>23.00</td>\n",
       "      <td>1.00</td>\n",
       "      <td>6.00</td>\n",
       "      <td>1.00</td>\n",
       "      <td>4.00</td>\n",
       "      <td>1.00</td>\n",
       "      <td>1.00</td>\n",
       "      <td>1.00</td>\n",
       "      <td>0.85</td>\n",
       "      <td>367.00</td>\n",
       "      <td>886.00</td>\n",
       "      <td>977.00</td>\n",
       "    </tr>\n",
       "  </tbody>\n",
       "</table>\n",
       "</div>"
      ],
      "text/plain": [
       "        instant      dteday   season       yr     mnth       hr  holiday  \\\n",
       "count  17379.00       17379 17379.00 17379.00 17379.00 17379.00 17379.00   \n",
       "unique      NaN         731      NaN      NaN      NaN      NaN      NaN   \n",
       "top         NaN  2011-01-01      NaN      NaN      NaN      NaN      NaN   \n",
       "freq        NaN          24      NaN      NaN      NaN      NaN      NaN   \n",
       "mean    8690.00         NaN     2.50     0.50     6.54    11.55     0.03   \n",
       "std     5017.03         NaN     1.11     0.50     3.44     6.91     0.17   \n",
       "min        1.00         NaN     1.00     0.00     1.00     0.00     0.00   \n",
       "25%     4345.50         NaN     2.00     0.00     4.00     6.00     0.00   \n",
       "50%     8690.00         NaN     3.00     1.00     7.00    12.00     0.00   \n",
       "75%    13034.50         NaN     3.00     1.00    10.00    18.00     0.00   \n",
       "max    17379.00         NaN     4.00     1.00    12.00    23.00     1.00   \n",
       "\n",
       "        weekday  workingday  weathersit     temp    atemp      hum  windspeed  \\\n",
       "count  17379.00    17379.00    17379.00 17379.00 17379.00 17379.00   17379.00   \n",
       "unique      NaN         NaN         NaN      NaN      NaN      NaN        NaN   \n",
       "top         NaN         NaN         NaN      NaN      NaN      NaN        NaN   \n",
       "freq        NaN         NaN         NaN      NaN      NaN      NaN        NaN   \n",
       "mean       3.00        0.68        1.43     0.50     0.48     0.63       0.19   \n",
       "std        2.01        0.47        0.64     0.19     0.17     0.19       0.12   \n",
       "min        0.00        0.00        1.00     0.02     0.00     0.00       0.00   \n",
       "25%        1.00        0.00        1.00     0.34     0.33     0.48       0.10   \n",
       "50%        3.00        1.00        1.00     0.50     0.48     0.63       0.19   \n",
       "75%        5.00        1.00        2.00     0.66     0.62     0.78       0.25   \n",
       "max        6.00        1.00        4.00     1.00     1.00     1.00       0.85   \n",
       "\n",
       "         casual  registered      cnt  \n",
       "count  17379.00    17379.00 17379.00  \n",
       "unique      NaN         NaN      NaN  \n",
       "top         NaN         NaN      NaN  \n",
       "freq        NaN         NaN      NaN  \n",
       "mean      35.68      153.79   189.46  \n",
       "std       49.31      151.36   181.39  \n",
       "min        0.00        0.00     1.00  \n",
       "25%        4.00       34.00    40.00  \n",
       "50%       17.00      115.00   142.00  \n",
       "75%       48.00      220.00   281.00  \n",
       "max      367.00      886.00   977.00  "
      ]
     },
     "execution_count": 49,
     "metadata": {},
     "output_type": "execute_result"
    }
   ],
   "source": [
    "hour_df.describe(include=\"all\")"
   ]
  },
  {
   "cell_type": "code",
   "execution_count": 50,
   "metadata": {
    "colab": {
     "base_uri": "https://localhost:8080/"
    },
    "id": "NRpUu8gOeijt",
    "outputId": "a86be68b-ce18-459e-fecb-4574f39f92c7"
   },
   "outputs": [
    {
     "name": "stdout",
     "output_type": "stream",
     "text": [
      "Jumlah duplikasi:  0\n",
      "Jumlah duplikasi:  0\n"
     ]
    }
   ],
   "source": [
    "print(\"Jumlah duplikasi: \", day_df.duplicated().sum())\n",
    "print(\"Jumlah duplikasi: \", hour_df.duplicated().sum())"
   ]
  },
  {
   "cell_type": "markdown",
   "metadata": {
    "id": "EhN5R4hr8DC1"
   },
   "source": [
    "### Cleaning Data\n",
    "pada tahap ini, kita akan membuat rancangan tahapan serta metode pembersihan data berdasarkan masalah yang ditemukan dalam proses assessing data. Hal ini dapat dijadikan sebagai dokumentasi untuk memastikan orang lain memahami setiap tahapan dalam pembersihan data yang akan kita lakukan.\n",
    "\n",
    "Tahap ini bertujuan untuk mengubah tipe variabel dari dteday dari object ke datetime, karena variabel tersebut adalah variabel time series."
   ]
  },
  {
   "cell_type": "code",
   "execution_count": 51,
   "metadata": {
    "colab": {
     "base_uri": "https://localhost:8080/"
    },
    "id": "jVnYpprE9Evz",
    "outputId": "ee50ef87-f671-4851-fe64-2434140d3f18"
   },
   "outputs": [
    {
     "name": "stdout",
     "output_type": "stream",
     "text": [
      "Total duplikasi data:  0\n"
     ]
    }
   ],
   "source": [
    "print(\"Total duplikasi data: \", day_df.duplicated().sum())"
   ]
  },
  {
   "cell_type": "code",
   "execution_count": 52,
   "metadata": {
    "colab": {
     "base_uri": "https://localhost:8080/"
    },
    "id": "g77RqzHbt1eN",
    "outputId": "e4f6fcb0-2d21-42ef-b85d-b1e1efb96f46"
   },
   "outputs": [
    {
     "name": "stdout",
     "output_type": "stream",
     "text": [
      "Total duplikasi data:  0\n"
     ]
    }
   ],
   "source": [
    "print(\"Total duplikasi data: \", hour_df.duplicated().sum())"
   ]
  },
  {
   "cell_type": "code",
   "execution_count": 53,
   "metadata": {
    "colab": {
     "base_uri": "https://localhost:8080/"
    },
    "id": "_Do13uZM9R-y",
    "outputId": "ee86ad53-0ba8-489c-f2c2-543a1daec3fe"
   },
   "outputs": [
    {
     "data": {
      "text/plain": [
       "instant       0\n",
       "dteday        0\n",
       "season        0\n",
       "yr            0\n",
       "mnth          0\n",
       "hr            0\n",
       "holiday       0\n",
       "weekday       0\n",
       "workingday    0\n",
       "weathersit    0\n",
       "temp          0\n",
       "atemp         0\n",
       "hum           0\n",
       "windspeed     0\n",
       "casual        0\n",
       "registered    0\n",
       "cnt           0\n",
       "dtype: int64"
      ]
     },
     "execution_count": 53,
     "metadata": {},
     "output_type": "execute_result"
    }
   ],
   "source": [
    "day_df.isna().sum()\n",
    "hour_df.isna().sum()"
   ]
  },
  {
   "cell_type": "code",
   "execution_count": 54,
   "metadata": {
    "colab": {
     "base_uri": "https://localhost:8080/"
    },
    "id": "-texUvb3AyvA",
    "outputId": "aaa1b897-1960-40b4-a56e-cec636aa9533"
   },
   "outputs": [
    {
     "data": {
      "text/plain": [
       "instant       0\n",
       "dteday        0\n",
       "season        0\n",
       "yr            0\n",
       "mnth          0\n",
       "hr            0\n",
       "holiday       0\n",
       "weekday       0\n",
       "workingday    0\n",
       "weathersit    0\n",
       "temp          0\n",
       "atemp         0\n",
       "hum           0\n",
       "windspeed     0\n",
       "casual        0\n",
       "registered    0\n",
       "cnt           0\n",
       "dtype: int64"
      ]
     },
     "execution_count": 54,
     "metadata": {},
     "output_type": "execute_result"
    }
   ],
   "source": [
    "hour_df.isna().sum()"
   ]
  },
  {
   "cell_type": "code",
   "execution_count": 55,
   "metadata": {
    "colab": {
     "base_uri": "https://localhost:8080/"
    },
    "id": "i23e_UXrJ5mj",
    "outputId": "b3576fe2-8009-43ad-97d0-4fbd3a7a2833"
   },
   "outputs": [
    {
     "name": "stdout",
     "output_type": "stream",
     "text": [
      "<class 'pandas.core.series.Series'>\n",
      "RangeIndex: 731 entries, 0 to 730\n",
      "Series name: dteday\n",
      "Non-Null Count  Dtype         \n",
      "--------------  -----         \n",
      "731 non-null    datetime64[ns]\n",
      "dtypes: datetime64[ns](1)\n",
      "memory usage: 5.8 KB\n"
     ]
    }
   ],
   "source": [
    "day_df['dteday'] = pd.to_datetime(day_df['dteday'])\n",
    "day_df['dteday'].info()"
   ]
  },
  {
   "cell_type": "code",
   "execution_count": 56,
   "metadata": {
    "colab": {
     "base_uri": "https://localhost:8080/"
    },
    "id": "w53RR9LWF5RM",
    "outputId": "1173d6a6-4d0b-4606-9a3c-fc7d6d9f6013"
   },
   "outputs": [
    {
     "data": {
      "text/plain": [
       "Index(['instant', 'dteday', 'season', 'yr', 'month', 'holiday', 'weekday',\n",
       "       'workingday', 'weathersit', 'temp', 'atemp', 'humidity', 'windspeed',\n",
       "       'casual', 'registered', 'total_count'],\n",
       "      dtype='object')"
      ]
     },
     "execution_count": 56,
     "metadata": {},
     "output_type": "execute_result"
    }
   ],
   "source": [
    "day_df.rename(columns={'mnth':'month','hum':'humidity','cnt':'total_count'},inplace=True)\n",
    "day_df.columns"
   ]
  },
  {
   "cell_type": "markdown",
   "metadata": {
    "id": "_9lwdnQJA6fB"
   },
   "source": [
    "Data sudah bersih maka lanjut ke tahap berikutnya."
   ]
  },
  {
   "cell_type": "markdown",
   "metadata": {
    "id": "gp-Y6wU38DC1"
   },
   "source": [
    "## Exploratory Data Analysis (EDA)\n",
    "EDA merupakan tahap eksplorasi data yang telah dibersihkan guna memperoleh insight dan menjawab pertanyaan analisis. Pada prosesnya, kita akan sering menggunakan berbagai teknik dan parameter dalam descriptive statistics yang bertujuan untuk menemukan pola, hubungan, serta membangun intuisi terkait data yang diolah. Selain itu, tidak jarang kita juga menggunakan visualisasi data untuk menemukan pola dan memvalidasi parameter descriptive statistics yang diperoleh."
   ]
  },
  {
   "cell_type": "markdown",
   "metadata": {
    "id": "MW7WF2kr8DC1"
   },
   "source": [
    "### Explore Data (Pengaruh hari dalam peminjaman sepeda)\n",
    "Tahap ini dilakukan untuk menganalisis apakah terdapat pengaruh dari jenis hari tertentu terhadap volume peminjaman sepeda. Berdasarkan hasil output, terdapat indikasi bahwa peminjaman sepeda cenderung tinggi pada hari-hari kerja, sementara pada akhir pekan dan tanggal merah cenderung lebih rendah."
   ]
  },
  {
   "cell_type": "code",
   "execution_count": 57,
   "metadata": {
    "colab": {
     "base_uri": "https://localhost:8080/"
    },
    "id": "e9CQCZjk8DC2",
    "outputId": "5ad44534-8dae-42f2-f1dc-0077c0f696e4"
   },
   "outputs": [
    {
     "name": "stdout",
     "output_type": "stream",
     "text": [
      "<class 'pandas.core.frame.DataFrame'>\n",
      "RangeIndex: 731 entries, 0 to 730\n",
      "Data columns (total 16 columns):\n",
      " #   Column       Non-Null Count  Dtype         \n",
      "---  ------       --------------  -----         \n",
      " 0   instant      731 non-null    int64         \n",
      " 1   dteday       731 non-null    datetime64[ns]\n",
      " 2   season       731 non-null    int64         \n",
      " 3   yr           731 non-null    int64         \n",
      " 4   month        731 non-null    int64         \n",
      " 5   holiday      731 non-null    int64         \n",
      " 6   weekday      731 non-null    int64         \n",
      " 7   workingday   731 non-null    int64         \n",
      " 8   weathersit   731 non-null    int64         \n",
      " 9   temp         731 non-null    float64       \n",
      " 10  atemp        731 non-null    float64       \n",
      " 11  humidity     731 non-null    float64       \n",
      " 12  windspeed    731 non-null    float64       \n",
      " 13  casual       731 non-null    int64         \n",
      " 14  registered   731 non-null    int64         \n",
      " 15  total_count  731 non-null    int64         \n",
      "dtypes: datetime64[ns](1), float64(4), int64(11)\n",
      "memory usage: 91.5 KB\n"
     ]
    }
   ],
   "source": [
    "df = day_df.copy() # mengcopy day_df ke df\n",
    "df.info()"
   ]
  },
  {
   "cell_type": "code",
   "execution_count": 58,
   "metadata": {
    "id": "-GOqVrszKPSW"
   },
   "outputs": [],
   "source": [
    "# Mapping data yang bertipe kategorikal\n",
    "df['holiday'] = df['holiday'].map({0: 'Tidak', 1: 'Ya'})\n",
    "df['weekday'] = df['weekday'].map({0: 'Minggu', 1: 'Senin', 2: 'Selasa', 3: 'Rabu', 4: 'Kamis', 5: 'Jumat', 6: 'Sabtu'})\n",
    "df['workingday'] = df['workingday'].map({0: 'Tidak', 1: 'Ya'})\n",
    "df['yr'] = df['yr'].map({0: '2011', 1: '2012'})\n",
    "df['weathersit'] = df['weathersit'].map({1: 'Cerah', 2: 'Berkabut', 3: 'Hujan Ringan', 4: 'Hujan Lebat'})\n",
    "df['season'] = df['season'].map({1: 'Semi', 2: 'Panas', 3: 'Gugur', 4: 'Dingin'})\n",
    "month_map = {1: 'Januari', 2: 'Februari', 3: 'Maret', 4: 'April', 5: 'Mei', 6: 'Juni', 7: 'Juli', 8: 'Agustus', 9: 'September', 10: 'Oktober', 11: 'November', 12: 'Desember'}\n",
    "df['month'] = pd.Categorical(df['month'].map(month_map), categories=month_map.values(), ordered=True)"
   ]
  },
  {
   "cell_type": "code",
   "execution_count": 59,
   "metadata": {
    "colab": {
     "base_uri": "https://localhost:8080/",
     "height": 206
    },
    "id": "7OdM2NilQ1ch",
    "outputId": "c41fbabf-885b-490d-9f53-0a34dffc22dd"
   },
   "outputs": [
    {
     "data": {
      "text/html": [
       "<div>\n",
       "<style scoped>\n",
       "    .dataframe tbody tr th:only-of-type {\n",
       "        vertical-align: middle;\n",
       "    }\n",
       "\n",
       "    .dataframe tbody tr th {\n",
       "        vertical-align: top;\n",
       "    }\n",
       "\n",
       "    .dataframe thead th {\n",
       "        text-align: right;\n",
       "    }\n",
       "</style>\n",
       "<table border=\"1\" class=\"dataframe\">\n",
       "  <thead>\n",
       "    <tr style=\"text-align: right;\">\n",
       "      <th></th>\n",
       "      <th>instant</th>\n",
       "      <th>dteday</th>\n",
       "      <th>season</th>\n",
       "      <th>yr</th>\n",
       "      <th>month</th>\n",
       "      <th>holiday</th>\n",
       "      <th>weekday</th>\n",
       "      <th>workingday</th>\n",
       "      <th>weathersit</th>\n",
       "      <th>temp</th>\n",
       "      <th>atemp</th>\n",
       "      <th>humidity</th>\n",
       "      <th>windspeed</th>\n",
       "      <th>casual</th>\n",
       "      <th>registered</th>\n",
       "      <th>total_count</th>\n",
       "    </tr>\n",
       "  </thead>\n",
       "  <tbody>\n",
       "    <tr>\n",
       "      <th>0</th>\n",
       "      <td>1</td>\n",
       "      <td>2011-01-01</td>\n",
       "      <td>Semi</td>\n",
       "      <td>2011</td>\n",
       "      <td>Januari</td>\n",
       "      <td>Tidak</td>\n",
       "      <td>Sabtu</td>\n",
       "      <td>Tidak</td>\n",
       "      <td>Berkabut</td>\n",
       "      <td>0.34</td>\n",
       "      <td>0.36</td>\n",
       "      <td>0.81</td>\n",
       "      <td>0.16</td>\n",
       "      <td>331</td>\n",
       "      <td>654</td>\n",
       "      <td>985</td>\n",
       "    </tr>\n",
       "    <tr>\n",
       "      <th>1</th>\n",
       "      <td>2</td>\n",
       "      <td>2011-01-02</td>\n",
       "      <td>Semi</td>\n",
       "      <td>2011</td>\n",
       "      <td>Januari</td>\n",
       "      <td>Tidak</td>\n",
       "      <td>Minggu</td>\n",
       "      <td>Tidak</td>\n",
       "      <td>Berkabut</td>\n",
       "      <td>0.36</td>\n",
       "      <td>0.35</td>\n",
       "      <td>0.70</td>\n",
       "      <td>0.25</td>\n",
       "      <td>131</td>\n",
       "      <td>670</td>\n",
       "      <td>801</td>\n",
       "    </tr>\n",
       "    <tr>\n",
       "      <th>2</th>\n",
       "      <td>3</td>\n",
       "      <td>2011-01-03</td>\n",
       "      <td>Semi</td>\n",
       "      <td>2011</td>\n",
       "      <td>Januari</td>\n",
       "      <td>Tidak</td>\n",
       "      <td>Senin</td>\n",
       "      <td>Ya</td>\n",
       "      <td>Cerah</td>\n",
       "      <td>0.20</td>\n",
       "      <td>0.19</td>\n",
       "      <td>0.44</td>\n",
       "      <td>0.25</td>\n",
       "      <td>120</td>\n",
       "      <td>1229</td>\n",
       "      <td>1349</td>\n",
       "    </tr>\n",
       "    <tr>\n",
       "      <th>3</th>\n",
       "      <td>4</td>\n",
       "      <td>2011-01-04</td>\n",
       "      <td>Semi</td>\n",
       "      <td>2011</td>\n",
       "      <td>Januari</td>\n",
       "      <td>Tidak</td>\n",
       "      <td>Selasa</td>\n",
       "      <td>Ya</td>\n",
       "      <td>Cerah</td>\n",
       "      <td>0.20</td>\n",
       "      <td>0.21</td>\n",
       "      <td>0.59</td>\n",
       "      <td>0.16</td>\n",
       "      <td>108</td>\n",
       "      <td>1454</td>\n",
       "      <td>1562</td>\n",
       "    </tr>\n",
       "    <tr>\n",
       "      <th>4</th>\n",
       "      <td>5</td>\n",
       "      <td>2011-01-05</td>\n",
       "      <td>Semi</td>\n",
       "      <td>2011</td>\n",
       "      <td>Januari</td>\n",
       "      <td>Tidak</td>\n",
       "      <td>Rabu</td>\n",
       "      <td>Ya</td>\n",
       "      <td>Cerah</td>\n",
       "      <td>0.23</td>\n",
       "      <td>0.23</td>\n",
       "      <td>0.44</td>\n",
       "      <td>0.19</td>\n",
       "      <td>82</td>\n",
       "      <td>1518</td>\n",
       "      <td>1600</td>\n",
       "    </tr>\n",
       "  </tbody>\n",
       "</table>\n",
       "</div>"
      ],
      "text/plain": [
       "   instant     dteday season    yr    month holiday weekday workingday  \\\n",
       "0        1 2011-01-01   Semi  2011  Januari   Tidak   Sabtu      Tidak   \n",
       "1        2 2011-01-02   Semi  2011  Januari   Tidak  Minggu      Tidak   \n",
       "2        3 2011-01-03   Semi  2011  Januari   Tidak   Senin         Ya   \n",
       "3        4 2011-01-04   Semi  2011  Januari   Tidak  Selasa         Ya   \n",
       "4        5 2011-01-05   Semi  2011  Januari   Tidak    Rabu         Ya   \n",
       "\n",
       "  weathersit  temp  atemp  humidity  windspeed  casual  registered  \\\n",
       "0   Berkabut  0.34   0.36      0.81       0.16     331         654   \n",
       "1   Berkabut  0.36   0.35      0.70       0.25     131         670   \n",
       "2      Cerah  0.20   0.19      0.44       0.25     120        1229   \n",
       "3      Cerah  0.20   0.21      0.59       0.16     108        1454   \n",
       "4      Cerah  0.23   0.23      0.44       0.19      82        1518   \n",
       "\n",
       "   total_count  \n",
       "0          985  \n",
       "1          801  \n",
       "2         1349  \n",
       "3         1562  \n",
       "4         1600  "
      ]
     },
     "execution_count": 59,
     "metadata": {},
     "output_type": "execute_result"
    }
   ],
   "source": [
    "df.head(5)"
   ]
  },
  {
   "cell_type": "code",
   "execution_count": 60,
   "metadata": {
    "colab": {
     "base_uri": "https://localhost:8080/"
    },
    "id": "6f9Dl656TLKW",
    "outputId": "0a9a3f77-d016-401d-897a-25c3948508f6"
   },
   "outputs": [
    {
     "name": "stdout",
     "output_type": "stream",
     "text": [
      "Observations: 731\n",
      "Variables: 16\n",
      "num_cols: 9\n",
      "only_cat_cols: 4\n",
      "binary_cols: 3\n"
     ]
    }
   ],
   "source": [
    "# Pada bagian ini akan dilakukan analisis data untuk melihat kolom-kolom dengan berbagai kategori\n",
    "def grab_col_names(dataframe, cat_th=13, car_th=20):\n",
    "    cat_cols = [col for col in dataframe.columns if dataframe[col].dtypes == \"O\"]\n",
    "\n",
    "    num_but_cat = [col for col in dataframe.columns if dataframe[col].nunique() < cat_th and\n",
    "                   dataframe[col].dtypes != \"O\"]\n",
    "    cat_but_car = [col for col in dataframe.columns if dataframe[col].nunique() > car_th and\n",
    "                   dataframe[col].dtypes == \"O\"]\n",
    "    cat_cols = cat_cols + num_but_cat\n",
    "    cat_cols = [col for col in cat_cols if col not in cat_but_car]\n",
    "\n",
    "    num_cols = [col for col in dataframe.columns if dataframe[col].dtypes != \"O\"]\n",
    "    num_cols = [col for col in num_cols if col not in num_but_cat]\n",
    "\n",
    "    binary_cols = [col for col in cat_cols if dataframe[col].nunique()==2]\n",
    "\n",
    "    only_cat_cols = list(set(cat_cols)-set(binary_cols))\n",
    "\n",
    "    print(f\"Observations: {dataframe.shape[0]}\")\n",
    "    print(f\"Variables: {dataframe.shape[1]}\")\n",
    "    print(f'num_cols: {len(num_cols)}')\n",
    "    print(f'only_cat_cols: {len(only_cat_cols)}')\n",
    "    print(f'binary_cols: {len(binary_cols)}')\n",
    "    return only_cat_cols, num_cols, binary_cols\n",
    "\n",
    "only_cat_cols, num_cols, binary_cols = grab_col_names(df)"
   ]
  },
  {
   "cell_type": "code",
   "execution_count": 61,
   "metadata": {
    "colab": {
     "base_uri": "https://localhost:8080/"
    },
    "id": "OHxJeBpjTc4b",
    "outputId": "741c2a93-52e9-45dc-fdce-efafbc36b7ab"
   },
   "outputs": [
    {
     "name": "stdout",
     "output_type": "stream",
     "text": [
      "Numerical Variable: ['instant', 'dteday', 'temp', 'atemp', 'humidity', 'windspeed', 'casual', 'registered', 'total_count']\n",
      "Categorical Variable: ['month', 'weekday', 'season', 'weathersit']\n",
      "Binary Variable: ['yr', 'holiday', 'workingday']\n"
     ]
    }
   ],
   "source": [
    "# Melihat kolom-kolom dengan berbagai kategori\n",
    "print(f'Numerical Variable: {num_cols}')\n",
    "print(f'Categorical Variable: {only_cat_cols}')\n",
    "print(f'Binary Variable: {binary_cols}')"
   ]
  },
  {
   "cell_type": "code",
   "execution_count": 62,
   "metadata": {
    "id": "KlIYFtnMWcB9"
   },
   "outputs": [],
   "source": [
    "weathersit_order = ['Cerah', 'Berkabut', 'Hujan Ringan', 'Hujan Lebat']\n",
    "season_order = ['Semi', 'Panas', 'Gugur', 'Dingin']"
   ]
  },
  {
   "cell_type": "code",
   "execution_count": 63,
   "metadata": {
    "colab": {
     "base_uri": "https://localhost:8080/"
    },
    "id": "tfH29EwnVEYl",
    "outputId": "95c5325b-bd17-4a90-85ed-6a6f6790029b"
   },
   "outputs": [
    {
     "name": "stdout",
     "output_type": "stream",
     "text": [
      "Rata-rata jumlah peminjaman sepeda terhadap keadaan cuaca :\n",
      "  weathersit  total_count\n",
      "       Cerah      4876.79\n",
      "    Berkabut      4035.86\n",
      "Hujan Ringan      1803.29\n",
      " Hujan Lebat         0.00\n",
      "\n",
      "===============================================\n",
      "\n",
      "Rata-rata jumlah peminjaman sepeda terhadap musim :\n",
      "season  total_count\n",
      "  Semi      2604.13\n",
      " Panas      4992.33\n",
      " Gugur      5644.30\n",
      "Dingin      4728.16\n",
      "Rata-rata jumlah peminjaman sepeda terhadap hari libur :\n",
      "holiday  total_count\n",
      "  Tidak      4527.10\n",
      "     Ya      3735.00\n",
      "\n",
      "===============================================\n",
      "\n",
      "Rata-rata jumlah peminjaman sepeda terhadap hari :\n",
      "weekday  total_count\n",
      "  Senin      4338.12\n",
      " Selasa      4510.66\n",
      "   Rabu      4548.54\n",
      "  Kamis      4667.26\n",
      "  Jumat      4690.29\n",
      "  Sabtu      4550.54\n",
      " Minggu      4228.83\n",
      "\n",
      "===============================================\n",
      "\n",
      "Rata-rata jumlah peminjaman sepeda terhadap hari kerja :\n",
      "workingday  total_count\n",
      "     Tidak      4330.17\n",
      "        Ya      4584.82\n"
     ]
    }
   ],
   "source": [
    "#  Membuat pivot tabel untuk rata-rata jumlah peminjaman sepeda terhadap variabel kategorikal hari\n",
    "#  Hal ini dilakukan untuk melihat bagaimana variabel kategorikal mempengaruhi jumlah peminjaman sepeda\n",
    "#  Menggunakan groupby dan agg untuk menghitung rata-rata jumlah peminjaman sepeda\n",
    "pivot_holiday = df.groupby(by=[\"holiday\"]).agg({\n",
    "    \"total_count\": \"mean\"\n",
    "}).reset_index()\n",
    "pivot_weekday = df.groupby(by=[\"weekday\"]).agg({\n",
    "    \"total_count\": \"mean\"\n",
    "}).reindex(['Senin', 'Selasa', 'Rabu', 'Kamis', 'Jumat', 'Sabtu', 'Minggu']).reset_index()\n",
    "pivot_workingday = df.groupby(by=[\"workingday\"]).agg({\n",
    "    \"total_count\": \"mean\"\n",
    "}).reset_index()\n",
    "pivot_weathersit = df.groupby(by=[\"weathersit\"]).agg({\n",
    "    \"total_count\": \"mean\"\n",
    "}).reindex(weathersit_order, fill_value=0).reset_index()\n",
    "pivot_season = df.groupby(by=[\"season\"]).agg({\n",
    "    \"total_count\": \"mean\"\n",
    "}).reindex(season_order, fill_value=0).reset_index()\n",
    "\n",
    "# Display pivot tabel\n",
    "pd.options.display.float_format = '{:.2f}'.format\n",
    "print(\"Rata-rata jumlah peminjaman sepeda terhadap keadaan cuaca :\")\n",
    "print(pivot_weathersit.to_string(index=False))\n",
    "print(\"\\n===============================================\\n\")\n",
    "print(\"Rata-rata jumlah peminjaman sepeda terhadap musim :\")\n",
    "print(pivot_season.to_string(index=False))\n",
    "\n",
    "pd.options.display.float_format = '{:.2f}'.format\n",
    "print(\"Rata-rata jumlah peminjaman sepeda terhadap hari libur :\")\n",
    "print(pivot_holiday.to_string(index=False))\n",
    "print(\"\\n===============================================\\n\")\n",
    "print(\"Rata-rata jumlah peminjaman sepeda terhadap hari :\")\n",
    "print(pivot_weekday.to_string(index=False))\n",
    "print(\"\\n===============================================\\n\")\n",
    "print(\"Rata-rata jumlah peminjaman sepeda terhadap hari kerja :\")\n",
    "print(pivot_workingday.to_string(index=False))"
   ]
  },
  {
   "cell_type": "code",
   "execution_count": 64,
   "metadata": {
    "colab": {
     "base_uri": "https://localhost:8080/"
    },
    "id": "nITTUw9bWyt-",
    "outputId": "f1dcd80d-7fe2-49d2-e859-19bd3cbfc5b0"
   },
   "outputs": [
    {
     "name": "stdout",
     "output_type": "stream",
     "text": [
      "Pivot Tabel untuk rata-rata jumlah peminjaman sepeda dari dari pengguna biasa dan terdaftar :\n",
      "  Variabel  Rata-rata\n",
      "    Casual     848.18\n",
      "Registered    3656.17\n"
     ]
    }
   ],
   "source": [
    "# Menghitung rata-rata dari kedua variabel\n",
    "overall_avg_casual = df['casual'].mean()\n",
    "overall_avg_registered = df['registered'].mean()\n",
    "\n",
    "# Membuat DataFrame baru untuk hasil rata-rata\n",
    "data = {'Variabel': ['Casual', 'Registered'],\n",
    "        'Rata-rata': [overall_avg_casual, overall_avg_registered]}\n",
    "pivot_table_overall = pd.DataFrame(data)\n",
    "\n",
    "# Menampilkan pivot tabel\n",
    "print(\"Pivot Tabel untuk rata-rata jumlah peminjaman sepeda dari dari pengguna biasa dan terdaftar :\")\n",
    "print(pivot_table_overall.to_string(index=False))"
   ]
  },
  {
   "cell_type": "code",
   "execution_count": 71,
   "metadata": {
    "colab": {
     "base_uri": "https://localhost:8080/",
     "height": 807
    },
    "id": "yjMh5LmoW_s0",
    "outputId": "72a9ca86-56ea-40fd-a2de-7e8ee4042c70"
   },
   "outputs": [
    {
     "ename": "ValueError",
     "evalue": "could not convert string to float: 'Semi'",
     "output_type": "error",
     "traceback": [
      "\u001b[1;31m---------------------------------------------------------------------------\u001b[0m",
      "\u001b[1;31mValueError\u001b[0m                                Traceback (most recent call last)",
      "Cell \u001b[1;32mIn[71], line 3\u001b[0m\n\u001b[0;32m      1\u001b[0m \u001b[38;5;66;03m# Menghitung korelasi untuk setiap variabel\u001b[39;00m\n\u001b[0;32m      2\u001b[0m df \u001b[38;5;241m=\u001b[39m df[[col \u001b[38;5;28;01mfor\u001b[39;00m col \u001b[38;5;129;01min\u001b[39;00m df \u001b[38;5;28;01mif\u001b[39;00m df[col]\u001b[38;5;241m.\u001b[39mnunique() \u001b[38;5;241m>\u001b[39m \u001b[38;5;241m1\u001b[39m]]\n\u001b[1;32m----> 3\u001b[0m corr \u001b[38;5;241m=\u001b[39m \u001b[43mdf\u001b[49m\u001b[38;5;241;43m.\u001b[39;49m\u001b[43mcorr\u001b[49m\u001b[43m(\u001b[49m\u001b[43m)\u001b[49m\n\u001b[0;32m      5\u001b[0m \u001b[38;5;66;03m# Menamplikan plot korelasi\u001b[39;00m\n\u001b[0;32m      6\u001b[0m plt\u001b[38;5;241m.\u001b[39mfigure(figsize\u001b[38;5;241m=\u001b[39m(\u001b[38;5;241m10\u001b[39m, \u001b[38;5;241m8\u001b[39m))\n",
      "File \u001b[1;32mc:\\Users\\ernaj\\AppData\\Local\\Programs\\Python\\Python311\\Lib\\site-packages\\pandas\\core\\frame.py:10704\u001b[0m, in \u001b[0;36mDataFrame.corr\u001b[1;34m(self, method, min_periods, numeric_only)\u001b[0m\n\u001b[0;32m  10702\u001b[0m cols \u001b[38;5;241m=\u001b[39m data\u001b[38;5;241m.\u001b[39mcolumns\n\u001b[0;32m  10703\u001b[0m idx \u001b[38;5;241m=\u001b[39m cols\u001b[38;5;241m.\u001b[39mcopy()\n\u001b[1;32m> 10704\u001b[0m mat \u001b[38;5;241m=\u001b[39m \u001b[43mdata\u001b[49m\u001b[38;5;241;43m.\u001b[39;49m\u001b[43mto_numpy\u001b[49m\u001b[43m(\u001b[49m\u001b[43mdtype\u001b[49m\u001b[38;5;241;43m=\u001b[39;49m\u001b[38;5;28;43mfloat\u001b[39;49m\u001b[43m,\u001b[49m\u001b[43m \u001b[49m\u001b[43mna_value\u001b[49m\u001b[38;5;241;43m=\u001b[39;49m\u001b[43mnp\u001b[49m\u001b[38;5;241;43m.\u001b[39;49m\u001b[43mnan\u001b[49m\u001b[43m,\u001b[49m\u001b[43m \u001b[49m\u001b[43mcopy\u001b[49m\u001b[38;5;241;43m=\u001b[39;49m\u001b[38;5;28;43;01mFalse\u001b[39;49;00m\u001b[43m)\u001b[49m\n\u001b[0;32m  10706\u001b[0m \u001b[38;5;28;01mif\u001b[39;00m method \u001b[38;5;241m==\u001b[39m \u001b[38;5;124m\"\u001b[39m\u001b[38;5;124mpearson\u001b[39m\u001b[38;5;124m\"\u001b[39m:\n\u001b[0;32m  10707\u001b[0m     correl \u001b[38;5;241m=\u001b[39m libalgos\u001b[38;5;241m.\u001b[39mnancorr(mat, minp\u001b[38;5;241m=\u001b[39mmin_periods)\n",
      "File \u001b[1;32mc:\\Users\\ernaj\\AppData\\Local\\Programs\\Python\\Python311\\Lib\\site-packages\\pandas\\core\\frame.py:1889\u001b[0m, in \u001b[0;36mDataFrame.to_numpy\u001b[1;34m(self, dtype, copy, na_value)\u001b[0m\n\u001b[0;32m   1887\u001b[0m \u001b[38;5;28;01mif\u001b[39;00m dtype \u001b[38;5;129;01mis\u001b[39;00m \u001b[38;5;129;01mnot\u001b[39;00m \u001b[38;5;28;01mNone\u001b[39;00m:\n\u001b[0;32m   1888\u001b[0m     dtype \u001b[38;5;241m=\u001b[39m np\u001b[38;5;241m.\u001b[39mdtype(dtype)\n\u001b[1;32m-> 1889\u001b[0m result \u001b[38;5;241m=\u001b[39m \u001b[38;5;28;43mself\u001b[39;49m\u001b[38;5;241;43m.\u001b[39;49m\u001b[43m_mgr\u001b[49m\u001b[38;5;241;43m.\u001b[39;49m\u001b[43mas_array\u001b[49m\u001b[43m(\u001b[49m\u001b[43mdtype\u001b[49m\u001b[38;5;241;43m=\u001b[39;49m\u001b[43mdtype\u001b[49m\u001b[43m,\u001b[49m\u001b[43m \u001b[49m\u001b[43mcopy\u001b[49m\u001b[38;5;241;43m=\u001b[39;49m\u001b[43mcopy\u001b[49m\u001b[43m,\u001b[49m\u001b[43m \u001b[49m\u001b[43mna_value\u001b[49m\u001b[38;5;241;43m=\u001b[39;49m\u001b[43mna_value\u001b[49m\u001b[43m)\u001b[49m\n\u001b[0;32m   1890\u001b[0m \u001b[38;5;28;01mif\u001b[39;00m result\u001b[38;5;241m.\u001b[39mdtype \u001b[38;5;129;01mis\u001b[39;00m \u001b[38;5;129;01mnot\u001b[39;00m dtype:\n\u001b[0;32m   1891\u001b[0m     result \u001b[38;5;241m=\u001b[39m np\u001b[38;5;241m.\u001b[39marray(result, dtype\u001b[38;5;241m=\u001b[39mdtype, copy\u001b[38;5;241m=\u001b[39m\u001b[38;5;28;01mFalse\u001b[39;00m)\n",
      "File \u001b[1;32mc:\\Users\\ernaj\\AppData\\Local\\Programs\\Python\\Python311\\Lib\\site-packages\\pandas\\core\\internals\\managers.py:1656\u001b[0m, in \u001b[0;36mBlockManager.as_array\u001b[1;34m(self, dtype, copy, na_value)\u001b[0m\n\u001b[0;32m   1654\u001b[0m         arr\u001b[38;5;241m.\u001b[39mflags\u001b[38;5;241m.\u001b[39mwriteable \u001b[38;5;241m=\u001b[39m \u001b[38;5;28;01mFalse\u001b[39;00m\n\u001b[0;32m   1655\u001b[0m \u001b[38;5;28;01melse\u001b[39;00m:\n\u001b[1;32m-> 1656\u001b[0m     arr \u001b[38;5;241m=\u001b[39m \u001b[38;5;28;43mself\u001b[39;49m\u001b[38;5;241;43m.\u001b[39;49m\u001b[43m_interleave\u001b[49m\u001b[43m(\u001b[49m\u001b[43mdtype\u001b[49m\u001b[38;5;241;43m=\u001b[39;49m\u001b[43mdtype\u001b[49m\u001b[43m,\u001b[49m\u001b[43m \u001b[49m\u001b[43mna_value\u001b[49m\u001b[38;5;241;43m=\u001b[39;49m\u001b[43mna_value\u001b[49m\u001b[43m)\u001b[49m\n\u001b[0;32m   1657\u001b[0m     \u001b[38;5;66;03m# The underlying data was copied within _interleave, so no need\u001b[39;00m\n\u001b[0;32m   1658\u001b[0m     \u001b[38;5;66;03m# to further copy if copy=True or setting na_value\u001b[39;00m\n\u001b[0;32m   1660\u001b[0m \u001b[38;5;28;01mif\u001b[39;00m na_value \u001b[38;5;129;01mis\u001b[39;00m lib\u001b[38;5;241m.\u001b[39mno_default:\n",
      "File \u001b[1;32mc:\\Users\\ernaj\\AppData\\Local\\Programs\\Python\\Python311\\Lib\\site-packages\\pandas\\core\\internals\\managers.py:1715\u001b[0m, in \u001b[0;36mBlockManager._interleave\u001b[1;34m(self, dtype, na_value)\u001b[0m\n\u001b[0;32m   1713\u001b[0m     \u001b[38;5;28;01melse\u001b[39;00m:\n\u001b[0;32m   1714\u001b[0m         arr \u001b[38;5;241m=\u001b[39m blk\u001b[38;5;241m.\u001b[39mget_values(dtype)\n\u001b[1;32m-> 1715\u001b[0m     \u001b[43mresult\u001b[49m\u001b[43m[\u001b[49m\u001b[43mrl\u001b[49m\u001b[38;5;241;43m.\u001b[39;49m\u001b[43mindexer\u001b[49m\u001b[43m]\u001b[49m \u001b[38;5;241m=\u001b[39m arr\n\u001b[0;32m   1716\u001b[0m     itemmask[rl\u001b[38;5;241m.\u001b[39mindexer] \u001b[38;5;241m=\u001b[39m \u001b[38;5;241m1\u001b[39m\n\u001b[0;32m   1718\u001b[0m \u001b[38;5;28;01mif\u001b[39;00m \u001b[38;5;129;01mnot\u001b[39;00m itemmask\u001b[38;5;241m.\u001b[39mall():\n",
      "\u001b[1;31mValueError\u001b[0m: could not convert string to float: 'Semi'"
     ]
    }
   ],
   "source": [
    "# Menghitung korelasi untuk setiap variabel\n",
    "df = df[[col for col in df if df[col].nunique() > 1]]\n",
    "corr = df.corr()\n",
    "\n",
    "# Menamplikan plot korelasi\n",
    "plt.figure(figsize=(10, 8))\n",
    "heatmap = sns.heatmap(corr, fmt=\".2f\", linewidths=1, linecolor='black')\n",
    "\n",
    "plt.xticks(rotation=45, ha='right', fontsize=10)\n",
    "plt.yticks(fontsize=10)\n",
    "colorbar = heatmap.collections[0].colorbar\n",
    "colorbar.ax.tick_params(labelsize=10)\n",
    "\n",
    "plt.tight_layout()\n",
    "plt.show()"
   ]
  },
  {
   "cell_type": "code",
   "execution_count": 66,
   "metadata": {
    "colab": {
     "base_uri": "https://localhost:8080/",
     "height": 287
    },
    "id": "gUDkFbfqYFW_",
    "outputId": "5b9195a3-cf6f-48aa-b454-85fc8bf94aee"
   },
   "outputs": [
    {
     "data": {
      "image/png": "[encoded data removed]",
      "text/plain": [
       "<Figure size 1400x300 with 7 Axes>"
      ]
     },
     "metadata": {},
     "output_type": "display_data"
    }
   ],
   "source": [
    "# Membuat plot distribusi untuk setiap kolom \n",
    "# yang akan digunakan untuk melihat distribusi dari setiap variabel\n",
    "# Pada kasus ini, kita akan menggunakan sns.histplot untuk membuat plot distribusi\n",
    "# Menggunakakan kolom 'temp', 'atemp', 'humidity', 'windspeed', 'casual', 'registered', 'total_count'\n",
    "# untuk membuat plot distribusi\n",
    "columns_to_plot = ['temp', 'atemp', 'humidity', 'windspeed', 'casual', 'registered', 'total_count']\n",
    "\n",
    "# Mengatur ukuran plot dan layout subplot\n",
    "fig, axes = plt.subplots(nrows=1, ncols=7, figsize=(14, 3))\n",
    "plt.subplots_adjust(hspace=0.5, wspace=0.5)\n",
    "\n",
    "# Loop melalui setiap kolom dan membuat plot distribusi\n",
    "# Menggunakan sns.histplot untuk membuat plot distribusi\n",
    "for i, column in enumerate(columns_to_plot):\n",
    "    sns.histplot(df[column], ax=axes[i], kde=True)\n",
    "    axes[i].set_title(f\"Distribusi {column}\")\n",
    "    axes[i].set_xlabel('')\n",
    "\n",
    "# Menampilkan semua plot dalam satu output\n",
    "plt.tight_layout()\n",
    "plt.show()"
   ]
  },
  {
   "cell_type": "code",
   "execution_count": 67,
   "metadata": {
    "colab": {
     "base_uri": "https://localhost:8080/",
     "height": 206
    },
    "id": "uXD7XhN0Y2Yx",
    "outputId": "94831932-d05e-4f33-e8a2-a2678c64c5b1"
   },
   "outputs": [
    {
     "data": {
      "text/html": [
       "<div>\n",
       "<style scoped>\n",
       "    .dataframe tbody tr th:only-of-type {\n",
       "        vertical-align: middle;\n",
       "    }\n",
       "\n",
       "    .dataframe tbody tr th {\n",
       "        vertical-align: top;\n",
       "    }\n",
       "\n",
       "    .dataframe thead th {\n",
       "        text-align: right;\n",
       "    }\n",
       "</style>\n",
       "<table border=\"1\" class=\"dataframe\">\n",
       "  <thead>\n",
       "    <tr style=\"text-align: right;\">\n",
       "      <th></th>\n",
       "      <th>instant</th>\n",
       "      <th>dteday</th>\n",
       "      <th>season</th>\n",
       "      <th>yr</th>\n",
       "      <th>month</th>\n",
       "      <th>holiday</th>\n",
       "      <th>weekday</th>\n",
       "      <th>workingday</th>\n",
       "      <th>weathersit</th>\n",
       "      <th>temp</th>\n",
       "      <th>atemp</th>\n",
       "      <th>humidity</th>\n",
       "      <th>windspeed</th>\n",
       "      <th>casual</th>\n",
       "      <th>registered</th>\n",
       "      <th>total_count</th>\n",
       "    </tr>\n",
       "  </thead>\n",
       "  <tbody>\n",
       "    <tr>\n",
       "      <th>0</th>\n",
       "      <td>1</td>\n",
       "      <td>2011-01-01</td>\n",
       "      <td>Semi</td>\n",
       "      <td>2011</td>\n",
       "      <td>Januari</td>\n",
       "      <td>Tidak</td>\n",
       "      <td>Sabtu</td>\n",
       "      <td>Tidak</td>\n",
       "      <td>Berkabut</td>\n",
       "      <td>0.34</td>\n",
       "      <td>0.36</td>\n",
       "      <td>0.81</td>\n",
       "      <td>0.16</td>\n",
       "      <td>331</td>\n",
       "      <td>654</td>\n",
       "      <td>985</td>\n",
       "    </tr>\n",
       "    <tr>\n",
       "      <th>1</th>\n",
       "      <td>2</td>\n",
       "      <td>2011-01-02</td>\n",
       "      <td>Semi</td>\n",
       "      <td>2011</td>\n",
       "      <td>Januari</td>\n",
       "      <td>Tidak</td>\n",
       "      <td>Minggu</td>\n",
       "      <td>Tidak</td>\n",
       "      <td>Berkabut</td>\n",
       "      <td>0.36</td>\n",
       "      <td>0.35</td>\n",
       "      <td>0.70</td>\n",
       "      <td>0.25</td>\n",
       "      <td>131</td>\n",
       "      <td>670</td>\n",
       "      <td>801</td>\n",
       "    </tr>\n",
       "    <tr>\n",
       "      <th>2</th>\n",
       "      <td>3</td>\n",
       "      <td>2011-01-03</td>\n",
       "      <td>Semi</td>\n",
       "      <td>2011</td>\n",
       "      <td>Januari</td>\n",
       "      <td>Tidak</td>\n",
       "      <td>Senin</td>\n",
       "      <td>Ya</td>\n",
       "      <td>Cerah</td>\n",
       "      <td>0.20</td>\n",
       "      <td>0.19</td>\n",
       "      <td>0.44</td>\n",
       "      <td>0.25</td>\n",
       "      <td>120</td>\n",
       "      <td>1229</td>\n",
       "      <td>1349</td>\n",
       "    </tr>\n",
       "    <tr>\n",
       "      <th>3</th>\n",
       "      <td>4</td>\n",
       "      <td>2011-01-04</td>\n",
       "      <td>Semi</td>\n",
       "      <td>2011</td>\n",
       "      <td>Januari</td>\n",
       "      <td>Tidak</td>\n",
       "      <td>Selasa</td>\n",
       "      <td>Ya</td>\n",
       "      <td>Cerah</td>\n",
       "      <td>0.20</td>\n",
       "      <td>0.21</td>\n",
       "      <td>0.59</td>\n",
       "      <td>0.16</td>\n",
       "      <td>108</td>\n",
       "      <td>1454</td>\n",
       "      <td>1562</td>\n",
       "    </tr>\n",
       "    <tr>\n",
       "      <th>4</th>\n",
       "      <td>5</td>\n",
       "      <td>2011-01-05</td>\n",
       "      <td>Semi</td>\n",
       "      <td>2011</td>\n",
       "      <td>Januari</td>\n",
       "      <td>Tidak</td>\n",
       "      <td>Rabu</td>\n",
       "      <td>Ya</td>\n",
       "      <td>Cerah</td>\n",
       "      <td>0.23</td>\n",
       "      <td>0.23</td>\n",
       "      <td>0.44</td>\n",
       "      <td>0.19</td>\n",
       "      <td>82</td>\n",
       "      <td>1518</td>\n",
       "      <td>1600</td>\n",
       "    </tr>\n",
       "  </tbody>\n",
       "</table>\n",
       "</div>"
      ],
      "text/plain": [
       "   instant     dteday season    yr    month holiday weekday workingday  \\\n",
       "0        1 2011-01-01   Semi  2011  Januari   Tidak   Sabtu      Tidak   \n",
       "1        2 2011-01-02   Semi  2011  Januari   Tidak  Minggu      Tidak   \n",
       "2        3 2011-01-03   Semi  2011  Januari   Tidak   Senin         Ya   \n",
       "3        4 2011-01-04   Semi  2011  Januari   Tidak  Selasa         Ya   \n",
       "4        5 2011-01-05   Semi  2011  Januari   Tidak    Rabu         Ya   \n",
       "\n",
       "  weathersit  temp  atemp  humidity  windspeed  casual  registered  \\\n",
       "0   Berkabut  0.34   0.36      0.81       0.16     331         654   \n",
       "1   Berkabut  0.36   0.35      0.70       0.25     131         670   \n",
       "2      Cerah  0.20   0.19      0.44       0.25     120        1229   \n",
       "3      Cerah  0.20   0.21      0.59       0.16     108        1454   \n",
       "4      Cerah  0.23   0.23      0.44       0.19      82        1518   \n",
       "\n",
       "   total_count  \n",
       "0          985  \n",
       "1          801  \n",
       "2         1349  \n",
       "3         1562  \n",
       "4         1600  "
      ]
     },
     "execution_count": 67,
     "metadata": {},
     "output_type": "execute_result"
    }
   ],
   "source": [
    "df.head()"
   ]
  },
  {
   "cell_type": "code",
   "execution_count": 73,
   "metadata": {
    "colab": {
     "base_uri": "https://localhost:8080/",
     "height": 294
    },
    "id": "wLAsa-NtYqA-",
    "outputId": "2fd873d0-9b04-4bf3-9a6a-5b264e0d57a7"
   },
   "outputs": [
    {
     "data": {
      "image/png": "[encoded data removed]",
      "text/plain": [
       "<Figure size 1400x300 with 4 Axes>"
      ]
     },
     "metadata": {},
     "output_type": "display_data"
    }
   ],
   "source": [
    "# Membuat plot distribusi untuk variabel kategorikal\n",
    "# yang akan digunakan untuk melihat distribusi dari setiap variabel kategorikal\n",
    "# Pada kasus ini, variabel kategorikal yang akan digunakan adalah season, holiday, workingday, dan weathersit\n",
    "columns_to_plot = ['season', 'holiday', 'workingday', 'weathersit']\n",
    "\n",
    "# Mengatur ukuran plot dan layout subplot\n",
    "fig, axes = plt.subplots(nrows=1, ncols=4, figsize=(14, 3))\n",
    "plt.subplots_adjust(hspace=0.5, wspace=0.5)\n",
    "plt.suptitle('Distribusi Variabel Kategorikal', fontsize=16)\n",
    "\n",
    "# Loop melalui setiap kolom dan membuat plot distribusi\n",
    "for i, column in enumerate(columns_to_plot):\n",
    "    sns.countplot(x=column, data=df, ax=axes[i])\n",
    "    sns.histplot(df[column], ax=axes[i], kde=True)\n",
    "    axes[i].set_title(f\"Distribusi {column}\")\n",
    "    axes[i].set_xlabel('')\n",
    "\n",
    "# Menampilkan semua plot dalam satu output\n",
    "plt.tight_layout()\n",
    "plt.show()\n"
   ]
  },
  {
   "cell_type": "markdown",
   "metadata": {},
   "source": [
    "Hasil dari plot distribusi untuk variabel kategorikal akan digunakan untuk melihat distribusi dari setiap variabel kategorikal Pada kasus ini, variabel kategorikal yang akan digunakan adalah season, holiday, workingday, dan weathersit dan dapat dilihat bahwa variabel kategorikal memiliki distribusi yang merata "
   ]
  },
  {
   "cell_type": "code",
   "execution_count": 69,
   "metadata": {},
   "outputs": [],
   "source": [
    "# Untuk mengconvert kembali ke csv yang akan digunakan untuk streamlit\n",
    "df.to_csv('./data/main.csv', index=False)"
   ]
  },
  {
   "cell_type": "markdown",
   "metadata": {
    "id": "zsyZjqak8DC2"
   },
   "source": [
    "## Visualization & Explanatory Analysis"
   ]
  },
  {
   "cell_type": "markdown",
   "metadata": {
    "id": "HZxOiQ6n8DC2"
   },
   "source": [
    "### Pertanyaan 1 <br>\n",
    "Apakah musim mempengaruhi jumlah peminjaman sepeda?\n"
   ]
  },
  {
   "cell_type": "markdown",
   "metadata": {
    "id": "lvxg5xOoqMU-"
   },
   "source": [
    "\n",
    "Tahap ini menampikan stacked barchart berdasarkan musim tiap tahunnya. terlihat bahwa musim gugur menjadi musim yang memiliki jumlah peminjam paling banyak. <br> <br>\n"
   ]
  },
  {
   "cell_type": "code",
   "execution_count": 87,
   "metadata": {
    "colab": {
     "base_uri": "https://localhost:8080/",
     "height": 607
    },
    "id": "PujhkBNBaiYs",
    "outputId": "417f382f-1b83-4f2f-9c30-8bbd98458adb"
   },
   "outputs": [
    {
     "data": {
      "image/png": "[encoded data removed]",
      "text/plain": [
       "<Figure size 1000x600 with 1 Axes>"
      ]
     },
     "metadata": {},
     "output_type": "display_data"
    }
   ],
   "source": [
    "# Menghitung jumlah total peminjaman untuk setiap kombinasi musim dan tahun\n",
    "pivot_season_year = df.groupby(['season', 'yr'])['total_count'].sum().reset_index()\n",
    "x = np.arange(len(pivot_season_year['season'].unique()))\n",
    "y1 = pivot_season_year[pivot_season_year['yr'] == '2011']['total_count']\n",
    "y2 = pivot_season_year[pivot_season_year['yr'] == '2012']['total_count']\n",
    "\n",
    "# Membuat plot stacked barchart\n",
    "plt.figure(figsize=(10, 6))\n",
    "plt.bar(x, y1, label='2011', color='lightcoral')\n",
    "plt.bar(x, y2, bottom=y1, label='2012', color='skyblue')\n",
    "\n",
    "\n",
    "plt.xlabel('Musim')\n",
    "plt.ylabel('Jumlah Peminjaman')\n",
    "plt.title('Jumlah Peminjaman Sepeda Berdasarkan Musim dan Tahun')\n",
    "plt.xticks(x, pivot_season_year['season'].unique())\n",
    "plt.legend()\n",
    "plt.grid(True)\n",
    "\n",
    "\n",
    "plt.tight_layout()\n",
    "plt.show()\n",
    "\n"
   ]
  },
  {
   "cell_type": "markdown",
   "metadata": {},
   "source": [
    "Dapat dilihat bahwa jumlah peminjaman sepeda meningkat dari tahun 2011 ke tahun 2012 untuk setiap musim"
   ]
  },
  {
   "cell_type": "markdown",
   "metadata": {
    "id": "DgHI7CiU8DC2"
   },
   "source": [
    "### Pertanyaan 2:\n",
    "Bagaimana kinerja peminjaman sepeda per bulan?"
   ]
  },
  {
   "cell_type": "markdown",
   "metadata": {
    "id": "nrkJq_pTuFie"
   },
   "source": [
    "Tahap ini memiliki 2 step, yaitu membuat cluster dan memvisualisasikannya. pada step pertama, akan dibuat pengelompokkan banyaknya hari peminjaman berdasarkan bulan menjadi 3 bagian, yaitu sedikit, sedang, dan banyak. Metode clustering sederhana ini dilakukan secara manual. Cluster akan dibuat dengan pembagian jumlah peminjaman menjadi 3 bagian yang sama rata berdasarkan nilai maksimum dan minimum dari variabel total_count."
   ]
  },
  {
   "cell_type": "code",
   "execution_count": 89,
   "metadata": {
    "colab": {
     "base_uri": "https://localhost:8080/"
    },
    "id": "SFDFh_jndKzg",
    "outputId": "1d1b44b6-4a2f-4bb2-cd87-f7d8ac64e77e"
   },
   "outputs": [
    {
     "name": "stdout",
     "output_type": "stream",
     "text": [
      "cluster    Sedikit  Sedang  Banyak\n",
      "month                             \n",
      "Januari         43      19       0\n",
      "Februari        34      23       0\n",
      "Maret           29      21      12\n",
      "April           12      29      19\n",
      "Mei              2      37      23\n",
      "Juni             0      35      25\n",
      "Juli             0      34      28\n",
      "Agustus          1      33      28\n",
      "September        4      28      28\n",
      "Oktober          8      30      23\n",
      "November        10      44       6\n",
      "Desember        23      37       2\n"
     ]
    }
   ],
   "source": [
    "# Mendapatkan nilai minimum dan maksimum dan membagi data menjadi 3 bagian\n",
    "min_total = df['total_count'].min()\n",
    "max_total = df['total_count'].max()\n",
    "bins = [min_total, min_total + (max_total - min_total) / 3, min_total + 2 * (max_total - min_total) / 3, max_total]\n",
    "\n",
    "labels = ['Sedikit', 'Sedang', 'Banyak']\n",
    "df['cluster'] = pd.cut(df['total_count'], bins=bins, labels=labels)\n",
    "\n",
    "# Menghitung frekuensi masing-masing kombinasi mnth (bulan) dan cluster\n",
    "result = df.groupby(['month', 'cluster']).size().unstack(fill_value=0)\n",
    "\n",
    "print(result)"
   ]
  },
  {
   "cell_type": "code",
   "execution_count": 85,
   "metadata": {
    "colab": {
     "base_uri": "https://localhost:8080/",
     "height": 607
    },
    "id": "S-ufd3CRdht4",
    "outputId": "49b041b7-8c33-4f7a-f9cb-3c35226aa235"
   },
   "outputs": [
    {
     "ename": "NameError",
     "evalue": "name 'result' is not defined",
     "output_type": "error",
     "traceback": [
      "\u001b[1;31m---------------------------------------------------------------------------\u001b[0m",
      "\u001b[1;31mNameError\u001b[0m                                 Traceback (most recent call last)",
      "Cell \u001b[1;32mIn[85], line 3\u001b[0m\n\u001b[0;32m      1\u001b[0m \u001b[38;5;66;03m# Plotting garis untuk masing-masing cluster\u001b[39;00m\n\u001b[0;32m      2\u001b[0m plt\u001b[38;5;241m.\u001b[39mfigure(figsize\u001b[38;5;241m=\u001b[39m(\u001b[38;5;241m10\u001b[39m, \u001b[38;5;241m6\u001b[39m))\n\u001b[1;32m----> 3\u001b[0m rng \u001b[38;5;241m=\u001b[39m \u001b[38;5;28mrange\u001b[39m(\u001b[38;5;28mlen\u001b[39m(\u001b[43mresult\u001b[49m\u001b[38;5;241m.\u001b[39mindex))\n\u001b[0;32m      4\u001b[0m plt\u001b[38;5;241m.\u001b[39mplot(rng, result[\u001b[38;5;124m'\u001b[39m\u001b[38;5;124mSedikit\u001b[39m\u001b[38;5;124m'\u001b[39m], label\u001b[38;5;241m=\u001b[39m\u001b[38;5;124m'\u001b[39m\u001b[38;5;124mSedikit\u001b[39m\u001b[38;5;124m'\u001b[39m, marker\u001b[38;5;241m=\u001b[39m\u001b[38;5;124m'\u001b[39m\u001b[38;5;124mo\u001b[39m\u001b[38;5;124m'\u001b[39m, color\u001b[38;5;241m=\u001b[39m\u001b[38;5;124m'\u001b[39m\u001b[38;5;124mskyblue\u001b[39m\u001b[38;5;124m'\u001b[39m)\n\u001b[0;32m      5\u001b[0m plt\u001b[38;5;241m.\u001b[39mplot(rng, result[\u001b[38;5;124m'\u001b[39m\u001b[38;5;124mSedang\u001b[39m\u001b[38;5;124m'\u001b[39m], label\u001b[38;5;241m=\u001b[39m\u001b[38;5;124m'\u001b[39m\u001b[38;5;124mSedang\u001b[39m\u001b[38;5;124m'\u001b[39m, marker\u001b[38;5;241m=\u001b[39m\u001b[38;5;124m'\u001b[39m\u001b[38;5;124mo\u001b[39m\u001b[38;5;124m'\u001b[39m, color\u001b[38;5;241m=\u001b[39m\u001b[38;5;124m'\u001b[39m\u001b[38;5;124msalmon\u001b[39m\u001b[38;5;124m'\u001b[39m)\n",
      "\u001b[1;31mNameError\u001b[0m: name 'result' is not defined"
     ]
    },
    {
     "data": {
      "text/plain": [
       "<Figure size 1000x600 with 0 Axes>"
      ]
     },
     "metadata": {},
     "output_type": "display_data"
    }
   ],
   "source": [
    "# Plotting garis untuk masing-masing cluster\n",
    "plt.figure(figsize=(10, 6))\n",
    "rng = range(len(result.index))\n",
    "plt.plot(rng, result['Sedikit'], label='Sedikit', marker='o', color='skyblue')\n",
    "plt.plot(rng, result['Sedang'], label='Sedang', marker='o', color='salmon')\n",
    "plt.plot(rng, result['Banyak'], label='Banyak', marker='o', color='teal')\n",
    "\n",
    "# Menampilkan plot\n",
    "plt.xlabel('')\n",
    "plt.ylabel('Jumlah Hari')\n",
    "plt.title('Pengelompokkan Berdasarkan Jumlah Peminjaman Sepeda per Bulan')\n",
    "bar_width = 1\n",
    "plt.xticks([r + bar_width for r in range(len(result.index))], result.index, rotation=45, ha='right')\n",
    "\n",
    "plt.legend()\n",
    "plt.tight_layout()\n",
    "plt.show()"
   ]
  },
  {
   "cell_type": "markdown",
   "metadata": {
    "id": "_WeHlCeX8DC2"
   },
   "source": [
    "## Conclusion"
   ]
  },
  {
   "cell_type": "markdown",
   "metadata": {
    "id": "ZTcyR48Y8DC2"
   },
   "source": [
    " - **Apakah musim mempengaruhi peminjaman sepeda?** <br>\n",
    "    Berdasarkan analisis stacked bar chart mengenai jumlah peminjaman sepeda berdasarkan musim tiap tahunnya, dapat diamati bahwa musim gugur menjadi musim yang paling diminati oleh para peminjam, dengan jumlah peminjaman melebihi 1 juta selama periode 2011-2012. Kondisi ini berbeda dengan musim semi yang hanya mencapai sekitar 500 ribu peminjaman selama dua tahun tersebut. Sementara itu, peminjaman pada musim dingin dan panas berada dalam kisaran 800-900 ribu. Selain itu, perlu diperhatikan bahwa jumlah peminjaman pada tahun 2012 secara keseluruhan lebih tinggi dibandingkan dengan tahun 2011 untuk semua musim. Dengan demikian, dapat disimpulkan bahwa musim memiliki pengaruh yang signifikan terhadap jumlah peminjaman sepeda. Pemahaman terhadap pola ini dapat menjadi dasar strategi peningkatan layanan dan promosi pada musim-musim tertentu guna meningkatkan minat peminjam.\n",
    " - **Bagaimana kinerja peminjaman sepeda per bulan?** <br>\n",
    "    Melalui analisis kinerja peminjaman sepeda setiap bulan yang telah diklasifikasikan ke dalam cluster \"Sedikit\", \"Sedang\", dan \"Banyak\", terlihat bahwa setiap bulan menunjukkan pola peminjaman yang berbeda. Misalnya, bulan Juni, Juli, dan Agustus cenderung memiliki jumlah peminjaman yang tinggi dan termasuk dalam cluster \"Banyak\", sementara bulan Januari, Februari, dan Maret cenderung memiliki jumlah peminjaman yang lebih rendah dan masuk ke dalam cluster \"Sedikit\". Kenaikan jumlah peminjaman teramati pada bulan-bulan dengan suhu lebih hangat, seperti Mei hingga Agustus, sementara penurunan peminjaman terjadi pada bulan-bulan dengan suhu yang lebih sejuk. Informasi ini dapat membantu dalam perencanaan layanan dan manajemen stok sepeda untuk mengakomodasi fluktuasi permintaan setiap bulan.  "
   ]
  }
 ],
 "metadata": {
  "colab": {
   "provenance": []
  },
  "kernelspec": {
   "display_name": "Python 3",
   "language": "python",
   "name": "python3"
  },
  "language_info": {
   "codemirror_mode": {
    "name": "ipython",
    "version": 3
   },
   "file_extension": ".py",
   "mimetype": "text/x-python",
   "name": "python",
   "nbconvert_exporter": "python",
   "pygments_lexer": "ipython3",
   "version": "3.11.4"
  },
  "orig_nbformat": 4,
  "vscode": {
   "interpreter": {
    "hash": "972b3bf27e332e87b5379f2791f6ef9dfc79c71018c370b0d7423235e20fe4d7"
   }
  }
 },
 "nbformat": 4,
 "nbformat_minor": 0
}
